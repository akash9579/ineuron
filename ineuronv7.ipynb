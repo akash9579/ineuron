{
  "nbformat": 4,
  "nbformat_minor": 0,
  "metadata": {
    "colab": {
      "name": "ineuronv7.ipynb",
      "provenance": []
    },
    "kernelspec": {
      "name": "python3",
      "display_name": "Python 3"
    }
  },
  "cells": [
    {
      "cell_type": "markdown",
      "metadata": {
        "id": "7ntufHl1n28c",
        "colab_type": "text"
      },
      "source": [
        "**load libraries**\n",
        "\n",
        "we need basic libraries like pandas,numpy for data handling,seaborn is used for statistical graphics in Python.\n",
        "\n",
        "sklearn is machine learning library which contain all ml algorithms and useful methods for preprocessing.this library contain lots of features like Cross-validation,train-split etc."
      ]
    },
    {
      "cell_type": "code",
      "metadata": {
        "id": "Ls9A58exnH_q",
        "colab_type": "code",
        "colab": {}
      },
      "source": [
        "import pandas as pd\n",
        "import seaborn as sns\n",
        "from sklearn import preprocessing \n",
        "from scipy import stats\n",
        "import numpy as np"
      ],
      "execution_count": 106,
      "outputs": []
    },
    {
      "cell_type": "markdown",
      "metadata": {
        "id": "gjeWDJDyn7YU",
        "colab_type": "text"
      },
      "source": [
        "**Data Profilling**"
      ]
    },
    {
      "cell_type": "code",
      "metadata": {
        "id": "Wnr3Ic63nTgM",
        "colab_type": "code",
        "colab": {}
      },
      "source": [
        "data = pd.read_excel('/content/Data_Cortex_Nuclear.xls')"
      ],
      "execution_count": 107,
      "outputs": []
    },
    {
      "cell_type": "code",
      "metadata": {
        "id": "LTNaQDldnUhc",
        "colab_type": "code",
        "colab": {
          "base_uri": "https://localhost:8080/",
          "height": 330
        },
        "outputId": "466b6a1c-126b-4690-a4e9-ff445740929f"
      },
      "source": [
        "data.head()"
      ],
      "execution_count": 108,
      "outputs": [
        {
          "output_type": "execute_result",
          "data": {
            "text/html": [
              "<div>\n",
              "<style scoped>\n",
              "    .dataframe tbody tr th:only-of-type {\n",
              "        vertical-align: middle;\n",
              "    }\n",
              "\n",
              "    .dataframe tbody tr th {\n",
              "        vertical-align: top;\n",
              "    }\n",
              "\n",
              "    .dataframe thead th {\n",
              "        text-align: right;\n",
              "    }\n",
              "</style>\n",
              "<table border=\"1\" class=\"dataframe\">\n",
              "  <thead>\n",
              "    <tr style=\"text-align: right;\">\n",
              "      <th></th>\n",
              "      <th>MouseID</th>\n",
              "      <th>DYRK1A_N</th>\n",
              "      <th>ITSN1_N</th>\n",
              "      <th>BDNF_N</th>\n",
              "      <th>NR1_N</th>\n",
              "      <th>NR2A_N</th>\n",
              "      <th>pAKT_N</th>\n",
              "      <th>pBRAF_N</th>\n",
              "      <th>pCAMKII_N</th>\n",
              "      <th>pCREB_N</th>\n",
              "      <th>pELK_N</th>\n",
              "      <th>pERK_N</th>\n",
              "      <th>pJNK_N</th>\n",
              "      <th>PKCA_N</th>\n",
              "      <th>pMEK_N</th>\n",
              "      <th>pNR1_N</th>\n",
              "      <th>pNR2A_N</th>\n",
              "      <th>pNR2B_N</th>\n",
              "      <th>pPKCAB_N</th>\n",
              "      <th>pRSK_N</th>\n",
              "      <th>AKT_N</th>\n",
              "      <th>BRAF_N</th>\n",
              "      <th>CAMKII_N</th>\n",
              "      <th>CREB_N</th>\n",
              "      <th>ELK_N</th>\n",
              "      <th>ERK_N</th>\n",
              "      <th>GSK3B_N</th>\n",
              "      <th>JNK_N</th>\n",
              "      <th>MEK_N</th>\n",
              "      <th>TRKA_N</th>\n",
              "      <th>RSK_N</th>\n",
              "      <th>APP_N</th>\n",
              "      <th>Bcatenin_N</th>\n",
              "      <th>SOD1_N</th>\n",
              "      <th>MTOR_N</th>\n",
              "      <th>P38_N</th>\n",
              "      <th>pMTOR_N</th>\n",
              "      <th>DSCR1_N</th>\n",
              "      <th>AMPKA_N</th>\n",
              "      <th>NR2B_N</th>\n",
              "      <th>...</th>\n",
              "      <th>TIAM1_N</th>\n",
              "      <th>pP70S6_N</th>\n",
              "      <th>NUMB_N</th>\n",
              "      <th>P70S6_N</th>\n",
              "      <th>pGSK3B_N</th>\n",
              "      <th>pPKCG_N</th>\n",
              "      <th>CDK5_N</th>\n",
              "      <th>S6_N</th>\n",
              "      <th>ADARB1_N</th>\n",
              "      <th>AcetylH3K9_N</th>\n",
              "      <th>RRP1_N</th>\n",
              "      <th>BAX_N</th>\n",
              "      <th>ARC_N</th>\n",
              "      <th>ERBB4_N</th>\n",
              "      <th>nNOS_N</th>\n",
              "      <th>Tau_N</th>\n",
              "      <th>GFAP_N</th>\n",
              "      <th>GluR3_N</th>\n",
              "      <th>GluR4_N</th>\n",
              "      <th>IL1B_N</th>\n",
              "      <th>P3525_N</th>\n",
              "      <th>pCASP9_N</th>\n",
              "      <th>PSD95_N</th>\n",
              "      <th>SNCA_N</th>\n",
              "      <th>Ubiquitin_N</th>\n",
              "      <th>pGSK3B_Tyr216_N</th>\n",
              "      <th>SHH_N</th>\n",
              "      <th>BAD_N</th>\n",
              "      <th>BCL2_N</th>\n",
              "      <th>pS6_N</th>\n",
              "      <th>pCFOS_N</th>\n",
              "      <th>SYP_N</th>\n",
              "      <th>H3AcK18_N</th>\n",
              "      <th>EGR1_N</th>\n",
              "      <th>H3MeK4_N</th>\n",
              "      <th>CaNA_N</th>\n",
              "      <th>Genotype</th>\n",
              "      <th>Treatment</th>\n",
              "      <th>Behavior</th>\n",
              "      <th>class</th>\n",
              "    </tr>\n",
              "  </thead>\n",
              "  <tbody>\n",
              "    <tr>\n",
              "      <th>0</th>\n",
              "      <td>309_1</td>\n",
              "      <td>0.503644</td>\n",
              "      <td>0.747193</td>\n",
              "      <td>0.430175</td>\n",
              "      <td>2.816329</td>\n",
              "      <td>5.990152</td>\n",
              "      <td>0.218830</td>\n",
              "      <td>0.177565</td>\n",
              "      <td>2.373744</td>\n",
              "      <td>0.232224</td>\n",
              "      <td>1.750936</td>\n",
              "      <td>0.687906</td>\n",
              "      <td>0.306382</td>\n",
              "      <td>0.402698</td>\n",
              "      <td>0.296927</td>\n",
              "      <td>1.022060</td>\n",
              "      <td>0.605673</td>\n",
              "      <td>1.877684</td>\n",
              "      <td>2.308745</td>\n",
              "      <td>0.441599</td>\n",
              "      <td>0.859366</td>\n",
              "      <td>0.416289</td>\n",
              "      <td>0.369608</td>\n",
              "      <td>0.178944</td>\n",
              "      <td>1.866358</td>\n",
              "      <td>3.685247</td>\n",
              "      <td>1.537227</td>\n",
              "      <td>0.264526</td>\n",
              "      <td>0.319677</td>\n",
              "      <td>0.813866</td>\n",
              "      <td>0.165846</td>\n",
              "      <td>0.453910</td>\n",
              "      <td>3.037621</td>\n",
              "      <td>0.369510</td>\n",
              "      <td>0.458539</td>\n",
              "      <td>0.335336</td>\n",
              "      <td>0.825192</td>\n",
              "      <td>0.576916</td>\n",
              "      <td>0.448099</td>\n",
              "      <td>0.586271</td>\n",
              "      <td>...</td>\n",
              "      <td>0.482864</td>\n",
              "      <td>0.294170</td>\n",
              "      <td>0.182150</td>\n",
              "      <td>0.842725</td>\n",
              "      <td>0.192608</td>\n",
              "      <td>1.443091</td>\n",
              "      <td>0.294700</td>\n",
              "      <td>0.354605</td>\n",
              "      <td>1.339070</td>\n",
              "      <td>0.170119</td>\n",
              "      <td>0.159102</td>\n",
              "      <td>0.188852</td>\n",
              "      <td>0.106305</td>\n",
              "      <td>0.144989</td>\n",
              "      <td>0.176668</td>\n",
              "      <td>0.125190</td>\n",
              "      <td>0.115291</td>\n",
              "      <td>0.228043</td>\n",
              "      <td>0.142756</td>\n",
              "      <td>0.430957</td>\n",
              "      <td>0.247538</td>\n",
              "      <td>1.603310</td>\n",
              "      <td>2.014875</td>\n",
              "      <td>0.108234</td>\n",
              "      <td>1.044979</td>\n",
              "      <td>0.831557</td>\n",
              "      <td>0.188852</td>\n",
              "      <td>0.122652</td>\n",
              "      <td>NaN</td>\n",
              "      <td>0.106305</td>\n",
              "      <td>0.108336</td>\n",
              "      <td>0.427099</td>\n",
              "      <td>0.114783</td>\n",
              "      <td>0.131790</td>\n",
              "      <td>0.128186</td>\n",
              "      <td>1.675652</td>\n",
              "      <td>Control</td>\n",
              "      <td>Memantine</td>\n",
              "      <td>C/S</td>\n",
              "      <td>c-CS-m</td>\n",
              "    </tr>\n",
              "    <tr>\n",
              "      <th>1</th>\n",
              "      <td>309_2</td>\n",
              "      <td>0.514617</td>\n",
              "      <td>0.689064</td>\n",
              "      <td>0.411770</td>\n",
              "      <td>2.789514</td>\n",
              "      <td>5.685038</td>\n",
              "      <td>0.211636</td>\n",
              "      <td>0.172817</td>\n",
              "      <td>2.292150</td>\n",
              "      <td>0.226972</td>\n",
              "      <td>1.596377</td>\n",
              "      <td>0.695006</td>\n",
              "      <td>0.299051</td>\n",
              "      <td>0.385987</td>\n",
              "      <td>0.281319</td>\n",
              "      <td>0.956676</td>\n",
              "      <td>0.587559</td>\n",
              "      <td>1.725774</td>\n",
              "      <td>2.043037</td>\n",
              "      <td>0.445222</td>\n",
              "      <td>0.834659</td>\n",
              "      <td>0.400364</td>\n",
              "      <td>0.356178</td>\n",
              "      <td>0.173680</td>\n",
              "      <td>1.761047</td>\n",
              "      <td>3.485287</td>\n",
              "      <td>1.509249</td>\n",
              "      <td>0.255727</td>\n",
              "      <td>0.304419</td>\n",
              "      <td>0.780504</td>\n",
              "      <td>0.157194</td>\n",
              "      <td>0.430940</td>\n",
              "      <td>2.921882</td>\n",
              "      <td>0.342279</td>\n",
              "      <td>0.423560</td>\n",
              "      <td>0.324835</td>\n",
              "      <td>0.761718</td>\n",
              "      <td>0.545097</td>\n",
              "      <td>0.420876</td>\n",
              "      <td>0.545097</td>\n",
              "      <td>...</td>\n",
              "      <td>0.454519</td>\n",
              "      <td>0.276431</td>\n",
              "      <td>0.182086</td>\n",
              "      <td>0.847615</td>\n",
              "      <td>0.194815</td>\n",
              "      <td>1.439460</td>\n",
              "      <td>0.294060</td>\n",
              "      <td>0.354548</td>\n",
              "      <td>1.306323</td>\n",
              "      <td>0.171427</td>\n",
              "      <td>0.158129</td>\n",
              "      <td>0.184570</td>\n",
              "      <td>0.106592</td>\n",
              "      <td>0.150471</td>\n",
              "      <td>0.178309</td>\n",
              "      <td>0.134275</td>\n",
              "      <td>0.118235</td>\n",
              "      <td>0.238073</td>\n",
              "      <td>0.142037</td>\n",
              "      <td>0.457156</td>\n",
              "      <td>0.257632</td>\n",
              "      <td>1.671738</td>\n",
              "      <td>2.004605</td>\n",
              "      <td>0.109749</td>\n",
              "      <td>1.009883</td>\n",
              "      <td>0.849270</td>\n",
              "      <td>0.200404</td>\n",
              "      <td>0.116682</td>\n",
              "      <td>NaN</td>\n",
              "      <td>0.106592</td>\n",
              "      <td>0.104315</td>\n",
              "      <td>0.441581</td>\n",
              "      <td>0.111974</td>\n",
              "      <td>0.135103</td>\n",
              "      <td>0.131119</td>\n",
              "      <td>1.743610</td>\n",
              "      <td>Control</td>\n",
              "      <td>Memantine</td>\n",
              "      <td>C/S</td>\n",
              "      <td>c-CS-m</td>\n",
              "    </tr>\n",
              "    <tr>\n",
              "      <th>2</th>\n",
              "      <td>309_3</td>\n",
              "      <td>0.509183</td>\n",
              "      <td>0.730247</td>\n",
              "      <td>0.418309</td>\n",
              "      <td>2.687201</td>\n",
              "      <td>5.622059</td>\n",
              "      <td>0.209011</td>\n",
              "      <td>0.175722</td>\n",
              "      <td>2.283337</td>\n",
              "      <td>0.230247</td>\n",
              "      <td>1.561316</td>\n",
              "      <td>0.677348</td>\n",
              "      <td>0.291276</td>\n",
              "      <td>0.381002</td>\n",
              "      <td>0.281710</td>\n",
              "      <td>1.003635</td>\n",
              "      <td>0.602449</td>\n",
              "      <td>1.731873</td>\n",
              "      <td>2.017984</td>\n",
              "      <td>0.467668</td>\n",
              "      <td>0.814329</td>\n",
              "      <td>0.399847</td>\n",
              "      <td>0.368089</td>\n",
              "      <td>0.173905</td>\n",
              "      <td>1.765544</td>\n",
              "      <td>3.571456</td>\n",
              "      <td>1.501244</td>\n",
              "      <td>0.259614</td>\n",
              "      <td>0.311747</td>\n",
              "      <td>0.785154</td>\n",
              "      <td>0.160895</td>\n",
              "      <td>0.423187</td>\n",
              "      <td>2.944136</td>\n",
              "      <td>0.343696</td>\n",
              "      <td>0.425005</td>\n",
              "      <td>0.324852</td>\n",
              "      <td>0.757031</td>\n",
              "      <td>0.543620</td>\n",
              "      <td>0.404630</td>\n",
              "      <td>0.552994</td>\n",
              "      <td>...</td>\n",
              "      <td>0.447197</td>\n",
              "      <td>0.256648</td>\n",
              "      <td>0.184388</td>\n",
              "      <td>0.856166</td>\n",
              "      <td>0.200737</td>\n",
              "      <td>1.524364</td>\n",
              "      <td>0.301881</td>\n",
              "      <td>0.386087</td>\n",
              "      <td>1.279600</td>\n",
              "      <td>0.185456</td>\n",
              "      <td>0.148696</td>\n",
              "      <td>0.190532</td>\n",
              "      <td>0.108303</td>\n",
              "      <td>0.145330</td>\n",
              "      <td>0.176213</td>\n",
              "      <td>0.132560</td>\n",
              "      <td>0.117760</td>\n",
              "      <td>0.244817</td>\n",
              "      <td>0.142445</td>\n",
              "      <td>0.510472</td>\n",
              "      <td>0.255343</td>\n",
              "      <td>1.663550</td>\n",
              "      <td>2.016831</td>\n",
              "      <td>0.108196</td>\n",
              "      <td>0.996848</td>\n",
              "      <td>0.846709</td>\n",
              "      <td>0.193685</td>\n",
              "      <td>0.118508</td>\n",
              "      <td>NaN</td>\n",
              "      <td>0.108303</td>\n",
              "      <td>0.106219</td>\n",
              "      <td>0.435777</td>\n",
              "      <td>0.111883</td>\n",
              "      <td>0.133362</td>\n",
              "      <td>0.127431</td>\n",
              "      <td>1.926427</td>\n",
              "      <td>Control</td>\n",
              "      <td>Memantine</td>\n",
              "      <td>C/S</td>\n",
              "      <td>c-CS-m</td>\n",
              "    </tr>\n",
              "    <tr>\n",
              "      <th>3</th>\n",
              "      <td>309_4</td>\n",
              "      <td>0.442107</td>\n",
              "      <td>0.617076</td>\n",
              "      <td>0.358626</td>\n",
              "      <td>2.466947</td>\n",
              "      <td>4.979503</td>\n",
              "      <td>0.222886</td>\n",
              "      <td>0.176463</td>\n",
              "      <td>2.152301</td>\n",
              "      <td>0.207004</td>\n",
              "      <td>1.595086</td>\n",
              "      <td>0.583277</td>\n",
              "      <td>0.296729</td>\n",
              "      <td>0.377087</td>\n",
              "      <td>0.313832</td>\n",
              "      <td>0.875390</td>\n",
              "      <td>0.520293</td>\n",
              "      <td>1.566852</td>\n",
              "      <td>2.132754</td>\n",
              "      <td>0.477671</td>\n",
              "      <td>0.727705</td>\n",
              "      <td>0.385639</td>\n",
              "      <td>0.362970</td>\n",
              "      <td>0.179449</td>\n",
              "      <td>1.286277</td>\n",
              "      <td>2.970137</td>\n",
              "      <td>1.419710</td>\n",
              "      <td>0.259536</td>\n",
              "      <td>0.279218</td>\n",
              "      <td>0.734492</td>\n",
              "      <td>0.162210</td>\n",
              "      <td>0.410615</td>\n",
              "      <td>2.500204</td>\n",
              "      <td>0.344509</td>\n",
              "      <td>0.429211</td>\n",
              "      <td>0.330121</td>\n",
              "      <td>0.746980</td>\n",
              "      <td>0.546763</td>\n",
              "      <td>0.386860</td>\n",
              "      <td>0.547849</td>\n",
              "      <td>...</td>\n",
              "      <td>0.442650</td>\n",
              "      <td>0.398534</td>\n",
              "      <td>0.161768</td>\n",
              "      <td>0.760234</td>\n",
              "      <td>0.184169</td>\n",
              "      <td>1.612382</td>\n",
              "      <td>0.296382</td>\n",
              "      <td>0.290680</td>\n",
              "      <td>1.198765</td>\n",
              "      <td>0.159799</td>\n",
              "      <td>0.166112</td>\n",
              "      <td>0.185323</td>\n",
              "      <td>0.103184</td>\n",
              "      <td>0.140656</td>\n",
              "      <td>0.163804</td>\n",
              "      <td>0.123210</td>\n",
              "      <td>0.117439</td>\n",
              "      <td>0.234947</td>\n",
              "      <td>0.145068</td>\n",
              "      <td>0.430996</td>\n",
              "      <td>0.251103</td>\n",
              "      <td>1.484624</td>\n",
              "      <td>1.957233</td>\n",
              "      <td>0.119883</td>\n",
              "      <td>0.990225</td>\n",
              "      <td>0.833277</td>\n",
              "      <td>0.192112</td>\n",
              "      <td>0.132781</td>\n",
              "      <td>NaN</td>\n",
              "      <td>0.103184</td>\n",
              "      <td>0.111262</td>\n",
              "      <td>0.391691</td>\n",
              "      <td>0.130405</td>\n",
              "      <td>0.147444</td>\n",
              "      <td>0.146901</td>\n",
              "      <td>1.700563</td>\n",
              "      <td>Control</td>\n",
              "      <td>Memantine</td>\n",
              "      <td>C/S</td>\n",
              "      <td>c-CS-m</td>\n",
              "    </tr>\n",
              "    <tr>\n",
              "      <th>4</th>\n",
              "      <td>309_5</td>\n",
              "      <td>0.434940</td>\n",
              "      <td>0.617430</td>\n",
              "      <td>0.358802</td>\n",
              "      <td>2.365785</td>\n",
              "      <td>4.718679</td>\n",
              "      <td>0.213106</td>\n",
              "      <td>0.173627</td>\n",
              "      <td>2.134014</td>\n",
              "      <td>0.192158</td>\n",
              "      <td>1.504230</td>\n",
              "      <td>0.550960</td>\n",
              "      <td>0.286961</td>\n",
              "      <td>0.363502</td>\n",
              "      <td>0.277964</td>\n",
              "      <td>0.864912</td>\n",
              "      <td>0.507990</td>\n",
              "      <td>1.480059</td>\n",
              "      <td>2.013697</td>\n",
              "      <td>0.483416</td>\n",
              "      <td>0.687794</td>\n",
              "      <td>0.367531</td>\n",
              "      <td>0.355311</td>\n",
              "      <td>0.174836</td>\n",
              "      <td>1.324695</td>\n",
              "      <td>2.896334</td>\n",
              "      <td>1.359876</td>\n",
              "      <td>0.250705</td>\n",
              "      <td>0.273667</td>\n",
              "      <td>0.702699</td>\n",
              "      <td>0.154827</td>\n",
              "      <td>0.398550</td>\n",
              "      <td>2.456560</td>\n",
              "      <td>0.329126</td>\n",
              "      <td>0.408755</td>\n",
              "      <td>0.313415</td>\n",
              "      <td>0.691956</td>\n",
              "      <td>0.536860</td>\n",
              "      <td>0.360816</td>\n",
              "      <td>0.512824</td>\n",
              "      <td>...</td>\n",
              "      <td>0.419095</td>\n",
              "      <td>0.393447</td>\n",
              "      <td>0.160200</td>\n",
              "      <td>0.768113</td>\n",
              "      <td>0.185718</td>\n",
              "      <td>1.645807</td>\n",
              "      <td>0.296829</td>\n",
              "      <td>0.309345</td>\n",
              "      <td>1.206995</td>\n",
              "      <td>0.164650</td>\n",
              "      <td>0.160687</td>\n",
              "      <td>0.188221</td>\n",
              "      <td>0.104784</td>\n",
              "      <td>0.141983</td>\n",
              "      <td>0.167710</td>\n",
              "      <td>0.136838</td>\n",
              "      <td>0.116048</td>\n",
              "      <td>0.255528</td>\n",
              "      <td>0.140871</td>\n",
              "      <td>0.481227</td>\n",
              "      <td>0.251773</td>\n",
              "      <td>1.534835</td>\n",
              "      <td>2.009109</td>\n",
              "      <td>0.119524</td>\n",
              "      <td>0.997775</td>\n",
              "      <td>0.878668</td>\n",
              "      <td>0.205604</td>\n",
              "      <td>0.129954</td>\n",
              "      <td>NaN</td>\n",
              "      <td>0.104784</td>\n",
              "      <td>0.110694</td>\n",
              "      <td>0.434154</td>\n",
              "      <td>0.118481</td>\n",
              "      <td>0.140314</td>\n",
              "      <td>0.148380</td>\n",
              "      <td>1.839730</td>\n",
              "      <td>Control</td>\n",
              "      <td>Memantine</td>\n",
              "      <td>C/S</td>\n",
              "      <td>c-CS-m</td>\n",
              "    </tr>\n",
              "  </tbody>\n",
              "</table>\n",
              "<p>5 rows × 82 columns</p>\n",
              "</div>"
            ],
            "text/plain": [
              "  MouseID  DYRK1A_N   ITSN1_N    BDNF_N  ...  Genotype  Treatment  Behavior   class\n",
              "0   309_1  0.503644  0.747193  0.430175  ...   Control  Memantine       C/S  c-CS-m\n",
              "1   309_2  0.514617  0.689064  0.411770  ...   Control  Memantine       C/S  c-CS-m\n",
              "2   309_3  0.509183  0.730247  0.418309  ...   Control  Memantine       C/S  c-CS-m\n",
              "3   309_4  0.442107  0.617076  0.358626  ...   Control  Memantine       C/S  c-CS-m\n",
              "4   309_5  0.434940  0.617430  0.358802  ...   Control  Memantine       C/S  c-CS-m\n",
              "\n",
              "[5 rows x 82 columns]"
            ]
          },
          "metadata": {
            "tags": []
          },
          "execution_count": 108
        }
      ]
    },
    {
      "cell_type": "code",
      "metadata": {
        "id": "VjWtj9-ZnZDW",
        "colab_type": "code",
        "colab": {
          "base_uri": "https://localhost:8080/",
          "height": 1000
        },
        "outputId": "75ee0ab0-e4f6-4641-f560-11bcd5334f14"
      },
      "source": [
        "data.info()"
      ],
      "execution_count": 109,
      "outputs": [
        {
          "output_type": "stream",
          "text": [
            "<class 'pandas.core.frame.DataFrame'>\n",
            "RangeIndex: 1080 entries, 0 to 1079\n",
            "Data columns (total 82 columns):\n",
            " #   Column           Non-Null Count  Dtype  \n",
            "---  ------           --------------  -----  \n",
            " 0   MouseID          1080 non-null   object \n",
            " 1   DYRK1A_N         1077 non-null   float64\n",
            " 2   ITSN1_N          1077 non-null   float64\n",
            " 3   BDNF_N           1077 non-null   float64\n",
            " 4   NR1_N            1077 non-null   float64\n",
            " 5   NR2A_N           1077 non-null   float64\n",
            " 6   pAKT_N           1077 non-null   float64\n",
            " 7   pBRAF_N          1077 non-null   float64\n",
            " 8   pCAMKII_N        1077 non-null   float64\n",
            " 9   pCREB_N          1077 non-null   float64\n",
            " 10  pELK_N           1077 non-null   float64\n",
            " 11  pERK_N           1077 non-null   float64\n",
            " 12  pJNK_N           1077 non-null   float64\n",
            " 13  PKCA_N           1077 non-null   float64\n",
            " 14  pMEK_N           1077 non-null   float64\n",
            " 15  pNR1_N           1077 non-null   float64\n",
            " 16  pNR2A_N          1077 non-null   float64\n",
            " 17  pNR2B_N          1077 non-null   float64\n",
            " 18  pPKCAB_N         1077 non-null   float64\n",
            " 19  pRSK_N           1077 non-null   float64\n",
            " 20  AKT_N            1077 non-null   float64\n",
            " 21  BRAF_N           1077 non-null   float64\n",
            " 22  CAMKII_N         1077 non-null   float64\n",
            " 23  CREB_N           1077 non-null   float64\n",
            " 24  ELK_N            1062 non-null   float64\n",
            " 25  ERK_N            1077 non-null   float64\n",
            " 26  GSK3B_N          1077 non-null   float64\n",
            " 27  JNK_N            1077 non-null   float64\n",
            " 28  MEK_N            1073 non-null   float64\n",
            " 29  TRKA_N           1077 non-null   float64\n",
            " 30  RSK_N            1077 non-null   float64\n",
            " 31  APP_N            1077 non-null   float64\n",
            " 32  Bcatenin_N       1062 non-null   float64\n",
            " 33  SOD1_N           1077 non-null   float64\n",
            " 34  MTOR_N           1077 non-null   float64\n",
            " 35  P38_N            1077 non-null   float64\n",
            " 36  pMTOR_N          1077 non-null   float64\n",
            " 37  DSCR1_N          1077 non-null   float64\n",
            " 38  AMPKA_N          1077 non-null   float64\n",
            " 39  NR2B_N           1077 non-null   float64\n",
            " 40  pNUMB_N          1077 non-null   float64\n",
            " 41  RAPTOR_N         1077 non-null   float64\n",
            " 42  TIAM1_N          1077 non-null   float64\n",
            " 43  pP70S6_N         1077 non-null   float64\n",
            " 44  NUMB_N           1080 non-null   float64\n",
            " 45  P70S6_N          1080 non-null   float64\n",
            " 46  pGSK3B_N         1080 non-null   float64\n",
            " 47  pPKCG_N          1080 non-null   float64\n",
            " 48  CDK5_N           1080 non-null   float64\n",
            " 49  S6_N             1080 non-null   float64\n",
            " 50  ADARB1_N         1080 non-null   float64\n",
            " 51  AcetylH3K9_N     1080 non-null   float64\n",
            " 52  RRP1_N           1080 non-null   float64\n",
            " 53  BAX_N            1080 non-null   float64\n",
            " 54  ARC_N            1080 non-null   float64\n",
            " 55  ERBB4_N          1080 non-null   float64\n",
            " 56  nNOS_N           1080 non-null   float64\n",
            " 57  Tau_N            1080 non-null   float64\n",
            " 58  GFAP_N           1080 non-null   float64\n",
            " 59  GluR3_N          1080 non-null   float64\n",
            " 60  GluR4_N          1080 non-null   float64\n",
            " 61  IL1B_N           1080 non-null   float64\n",
            " 62  P3525_N          1080 non-null   float64\n",
            " 63  pCASP9_N         1080 non-null   float64\n",
            " 64  PSD95_N          1080 non-null   float64\n",
            " 65  SNCA_N           1080 non-null   float64\n",
            " 66  Ubiquitin_N      1080 non-null   float64\n",
            " 67  pGSK3B_Tyr216_N  1080 non-null   float64\n",
            " 68  SHH_N            1080 non-null   float64\n",
            " 69  BAD_N            867 non-null    float64\n",
            " 70  BCL2_N           795 non-null    float64\n",
            " 71  pS6_N            1080 non-null   float64\n",
            " 72  pCFOS_N          1005 non-null   float64\n",
            " 73  SYP_N            1080 non-null   float64\n",
            " 74  H3AcK18_N        900 non-null    float64\n",
            " 75  EGR1_N           870 non-null    float64\n",
            " 76  H3MeK4_N         810 non-null    float64\n",
            " 77  CaNA_N           1080 non-null   float64\n",
            " 78  Genotype         1080 non-null   object \n",
            " 79  Treatment        1080 non-null   object \n",
            " 80  Behavior         1080 non-null   object \n",
            " 81  class            1080 non-null   object \n",
            "dtypes: float64(77), object(5)\n",
            "memory usage: 692.0+ KB\n"
          ],
          "name": "stdout"
        }
      ]
    },
    {
      "cell_type": "code",
      "metadata": {
        "id": "UsLpq209nemU",
        "colab_type": "code",
        "colab": {
          "base_uri": "https://localhost:8080/",
          "height": 34
        },
        "outputId": "1e424e10-7a26-47b7-db03-58f2c78a9fc8"
      },
      "source": [
        "data.shape"
      ],
      "execution_count": 110,
      "outputs": [
        {
          "output_type": "execute_result",
          "data": {
            "text/plain": [
              "(1080, 82)"
            ]
          },
          "metadata": {
            "tags": []
          },
          "execution_count": 110
        }
      ]
    },
    {
      "cell_type": "code",
      "metadata": {
        "id": "4hlFPwwpnhhE",
        "colab_type": "code",
        "colab": {
          "base_uri": "https://localhost:8080/",
          "height": 307
        },
        "outputId": "3bed4696-2d98-47df-fa85-0c5e884a6da5"
      },
      "source": [
        "data.describe()"
      ],
      "execution_count": 111,
      "outputs": [
        {
          "output_type": "execute_result",
          "data": {
            "text/html": [
              "<div>\n",
              "<style scoped>\n",
              "    .dataframe tbody tr th:only-of-type {\n",
              "        vertical-align: middle;\n",
              "    }\n",
              "\n",
              "    .dataframe tbody tr th {\n",
              "        vertical-align: top;\n",
              "    }\n",
              "\n",
              "    .dataframe thead th {\n",
              "        text-align: right;\n",
              "    }\n",
              "</style>\n",
              "<table border=\"1\" class=\"dataframe\">\n",
              "  <thead>\n",
              "    <tr style=\"text-align: right;\">\n",
              "      <th></th>\n",
              "      <th>DYRK1A_N</th>\n",
              "      <th>ITSN1_N</th>\n",
              "      <th>BDNF_N</th>\n",
              "      <th>NR1_N</th>\n",
              "      <th>NR2A_N</th>\n",
              "      <th>pAKT_N</th>\n",
              "      <th>pBRAF_N</th>\n",
              "      <th>pCAMKII_N</th>\n",
              "      <th>pCREB_N</th>\n",
              "      <th>pELK_N</th>\n",
              "      <th>pERK_N</th>\n",
              "      <th>pJNK_N</th>\n",
              "      <th>PKCA_N</th>\n",
              "      <th>pMEK_N</th>\n",
              "      <th>pNR1_N</th>\n",
              "      <th>pNR2A_N</th>\n",
              "      <th>pNR2B_N</th>\n",
              "      <th>pPKCAB_N</th>\n",
              "      <th>pRSK_N</th>\n",
              "      <th>AKT_N</th>\n",
              "      <th>BRAF_N</th>\n",
              "      <th>CAMKII_N</th>\n",
              "      <th>CREB_N</th>\n",
              "      <th>ELK_N</th>\n",
              "      <th>ERK_N</th>\n",
              "      <th>GSK3B_N</th>\n",
              "      <th>JNK_N</th>\n",
              "      <th>MEK_N</th>\n",
              "      <th>TRKA_N</th>\n",
              "      <th>RSK_N</th>\n",
              "      <th>APP_N</th>\n",
              "      <th>Bcatenin_N</th>\n",
              "      <th>SOD1_N</th>\n",
              "      <th>MTOR_N</th>\n",
              "      <th>P38_N</th>\n",
              "      <th>pMTOR_N</th>\n",
              "      <th>DSCR1_N</th>\n",
              "      <th>AMPKA_N</th>\n",
              "      <th>NR2B_N</th>\n",
              "      <th>pNUMB_N</th>\n",
              "      <th>RAPTOR_N</th>\n",
              "      <th>TIAM1_N</th>\n",
              "      <th>pP70S6_N</th>\n",
              "      <th>NUMB_N</th>\n",
              "      <th>P70S6_N</th>\n",
              "      <th>pGSK3B_N</th>\n",
              "      <th>pPKCG_N</th>\n",
              "      <th>CDK5_N</th>\n",
              "      <th>S6_N</th>\n",
              "      <th>ADARB1_N</th>\n",
              "      <th>AcetylH3K9_N</th>\n",
              "      <th>RRP1_N</th>\n",
              "      <th>BAX_N</th>\n",
              "      <th>ARC_N</th>\n",
              "      <th>ERBB4_N</th>\n",
              "      <th>nNOS_N</th>\n",
              "      <th>Tau_N</th>\n",
              "      <th>GFAP_N</th>\n",
              "      <th>GluR3_N</th>\n",
              "      <th>GluR4_N</th>\n",
              "      <th>IL1B_N</th>\n",
              "      <th>P3525_N</th>\n",
              "      <th>pCASP9_N</th>\n",
              "      <th>PSD95_N</th>\n",
              "      <th>SNCA_N</th>\n",
              "      <th>Ubiquitin_N</th>\n",
              "      <th>pGSK3B_Tyr216_N</th>\n",
              "      <th>SHH_N</th>\n",
              "      <th>BAD_N</th>\n",
              "      <th>BCL2_N</th>\n",
              "      <th>pS6_N</th>\n",
              "      <th>pCFOS_N</th>\n",
              "      <th>SYP_N</th>\n",
              "      <th>H3AcK18_N</th>\n",
              "      <th>EGR1_N</th>\n",
              "      <th>H3MeK4_N</th>\n",
              "      <th>CaNA_N</th>\n",
              "    </tr>\n",
              "  </thead>\n",
              "  <tbody>\n",
              "    <tr>\n",
              "      <th>count</th>\n",
              "      <td>1077.000000</td>\n",
              "      <td>1077.000000</td>\n",
              "      <td>1077.000000</td>\n",
              "      <td>1077.000000</td>\n",
              "      <td>1077.000000</td>\n",
              "      <td>1077.000000</td>\n",
              "      <td>1077.000000</td>\n",
              "      <td>1077.000000</td>\n",
              "      <td>1077.000000</td>\n",
              "      <td>1077.000000</td>\n",
              "      <td>1077.000000</td>\n",
              "      <td>1077.000000</td>\n",
              "      <td>1077.000000</td>\n",
              "      <td>1077.000000</td>\n",
              "      <td>1077.000000</td>\n",
              "      <td>1077.000000</td>\n",
              "      <td>1077.000000</td>\n",
              "      <td>1077.000000</td>\n",
              "      <td>1077.000000</td>\n",
              "      <td>1077.000000</td>\n",
              "      <td>1077.000000</td>\n",
              "      <td>1077.000000</td>\n",
              "      <td>1077.000000</td>\n",
              "      <td>1062.000000</td>\n",
              "      <td>1077.000000</td>\n",
              "      <td>1077.000000</td>\n",
              "      <td>1077.000000</td>\n",
              "      <td>1073.000000</td>\n",
              "      <td>1077.000000</td>\n",
              "      <td>1077.000000</td>\n",
              "      <td>1077.000000</td>\n",
              "      <td>1062.000000</td>\n",
              "      <td>1077.000000</td>\n",
              "      <td>1077.000000</td>\n",
              "      <td>1077.000000</td>\n",
              "      <td>1077.000000</td>\n",
              "      <td>1077.000000</td>\n",
              "      <td>1077.000000</td>\n",
              "      <td>1077.000000</td>\n",
              "      <td>1077.000000</td>\n",
              "      <td>1077.000000</td>\n",
              "      <td>1077.000000</td>\n",
              "      <td>1077.000000</td>\n",
              "      <td>1080.000000</td>\n",
              "      <td>1080.000000</td>\n",
              "      <td>1080.000000</td>\n",
              "      <td>1080.000000</td>\n",
              "      <td>1080.000000</td>\n",
              "      <td>1080.000000</td>\n",
              "      <td>1080.000000</td>\n",
              "      <td>1080.000000</td>\n",
              "      <td>1080.000000</td>\n",
              "      <td>1080.000000</td>\n",
              "      <td>1080.000000</td>\n",
              "      <td>1080.000000</td>\n",
              "      <td>1080.000000</td>\n",
              "      <td>1080.000000</td>\n",
              "      <td>1080.000000</td>\n",
              "      <td>1080.000000</td>\n",
              "      <td>1080.000000</td>\n",
              "      <td>1080.000000</td>\n",
              "      <td>1080.000000</td>\n",
              "      <td>1080.000000</td>\n",
              "      <td>1080.000000</td>\n",
              "      <td>1080.000000</td>\n",
              "      <td>1080.000000</td>\n",
              "      <td>1080.000000</td>\n",
              "      <td>1080.000000</td>\n",
              "      <td>867.000000</td>\n",
              "      <td>795.000000</td>\n",
              "      <td>1080.000000</td>\n",
              "      <td>1005.000000</td>\n",
              "      <td>1080.000000</td>\n",
              "      <td>900.000000</td>\n",
              "      <td>870.000000</td>\n",
              "      <td>810.000000</td>\n",
              "      <td>1080.000000</td>\n",
              "    </tr>\n",
              "    <tr>\n",
              "      <th>mean</th>\n",
              "      <td>0.425810</td>\n",
              "      <td>0.617102</td>\n",
              "      <td>0.319088</td>\n",
              "      <td>2.297269</td>\n",
              "      <td>3.843934</td>\n",
              "      <td>0.233168</td>\n",
              "      <td>0.181846</td>\n",
              "      <td>3.537109</td>\n",
              "      <td>0.212574</td>\n",
              "      <td>1.428682</td>\n",
              "      <td>0.545904</td>\n",
              "      <td>0.313505</td>\n",
              "      <td>0.317939</td>\n",
              "      <td>0.275033</td>\n",
              "      <td>0.825813</td>\n",
              "      <td>0.726933</td>\n",
              "      <td>1.561965</td>\n",
              "      <td>1.525338</td>\n",
              "      <td>0.442848</td>\n",
              "      <td>0.682236</td>\n",
              "      <td>0.378519</td>\n",
              "      <td>0.363357</td>\n",
              "      <td>0.180492</td>\n",
              "      <td>1.173400</td>\n",
              "      <td>2.474492</td>\n",
              "      <td>1.172603</td>\n",
              "      <td>0.241644</td>\n",
              "      <td>0.272789</td>\n",
              "      <td>0.693180</td>\n",
              "      <td>0.168417</td>\n",
              "      <td>0.404808</td>\n",
              "      <td>2.146550</td>\n",
              "      <td>0.542635</td>\n",
              "      <td>0.452459</td>\n",
              "      <td>0.415311</td>\n",
              "      <td>0.759047</td>\n",
              "      <td>0.585186</td>\n",
              "      <td>0.368370</td>\n",
              "      <td>0.565317</td>\n",
              "      <td>0.357095</td>\n",
              "      <td>0.315813</td>\n",
              "      <td>0.418605</td>\n",
              "      <td>0.394475</td>\n",
              "      <td>0.181080</td>\n",
              "      <td>0.943116</td>\n",
              "      <td>0.161211</td>\n",
              "      <td>1.706599</td>\n",
              "      <td>0.292434</td>\n",
              "      <td>0.429226</td>\n",
              "      <td>1.197420</td>\n",
              "      <td>0.216482</td>\n",
              "      <td>0.166631</td>\n",
              "      <td>0.179307</td>\n",
              "      <td>0.121521</td>\n",
              "      <td>0.156478</td>\n",
              "      <td>0.181300</td>\n",
              "      <td>0.210489</td>\n",
              "      <td>0.120889</td>\n",
              "      <td>0.221851</td>\n",
              "      <td>0.126560</td>\n",
              "      <td>0.527349</td>\n",
              "      <td>0.291276</td>\n",
              "      <td>1.548348</td>\n",
              "      <td>2.235236</td>\n",
              "      <td>0.159821</td>\n",
              "      <td>1.239270</td>\n",
              "      <td>0.848767</td>\n",
              "      <td>0.226676</td>\n",
              "      <td>0.157914</td>\n",
              "      <td>0.134762</td>\n",
              "      <td>0.121521</td>\n",
              "      <td>0.131053</td>\n",
              "      <td>0.446073</td>\n",
              "      <td>0.169609</td>\n",
              "      <td>0.183135</td>\n",
              "      <td>0.205440</td>\n",
              "      <td>1.337784</td>\n",
              "    </tr>\n",
              "    <tr>\n",
              "      <th>std</th>\n",
              "      <td>0.249362</td>\n",
              "      <td>0.251640</td>\n",
              "      <td>0.049383</td>\n",
              "      <td>0.347293</td>\n",
              "      <td>0.933100</td>\n",
              "      <td>0.041634</td>\n",
              "      <td>0.027042</td>\n",
              "      <td>1.295169</td>\n",
              "      <td>0.032587</td>\n",
              "      <td>0.466904</td>\n",
              "      <td>0.345309</td>\n",
              "      <td>0.051978</td>\n",
              "      <td>0.052236</td>\n",
              "      <td>0.046164</td>\n",
              "      <td>0.117969</td>\n",
              "      <td>0.188013</td>\n",
              "      <td>0.270737</td>\n",
              "      <td>0.481780</td>\n",
              "      <td>0.066672</td>\n",
              "      <td>0.127434</td>\n",
              "      <td>0.216388</td>\n",
              "      <td>0.052352</td>\n",
              "      <td>0.026370</td>\n",
              "      <td>0.335786</td>\n",
              "      <td>0.653397</td>\n",
              "      <td>0.244752</td>\n",
              "      <td>0.033901</td>\n",
              "      <td>0.041075</td>\n",
              "      <td>0.120825</td>\n",
              "      <td>0.028138</td>\n",
              "      <td>0.061173</td>\n",
              "      <td>0.435742</td>\n",
              "      <td>0.280568</td>\n",
              "      <td>0.065488</td>\n",
              "      <td>0.089290</td>\n",
              "      <td>0.122446</td>\n",
              "      <td>0.100601</td>\n",
              "      <td>0.062583</td>\n",
              "      <td>0.088201</td>\n",
              "      <td>0.063025</td>\n",
              "      <td>0.054163</td>\n",
              "      <td>0.067288</td>\n",
              "      <td>0.156170</td>\n",
              "      <td>0.029296</td>\n",
              "      <td>0.172838</td>\n",
              "      <td>0.019308</td>\n",
              "      <td>0.578442</td>\n",
              "      <td>0.037380</td>\n",
              "      <td>0.137440</td>\n",
              "      <td>0.361743</td>\n",
              "      <td>0.185309</td>\n",
              "      <td>0.031896</td>\n",
              "      <td>0.018826</td>\n",
              "      <td>0.014276</td>\n",
              "      <td>0.015071</td>\n",
              "      <td>0.024919</td>\n",
              "      <td>0.069010</td>\n",
              "      <td>0.013233</td>\n",
              "      <td>0.034886</td>\n",
              "      <td>0.026885</td>\n",
              "      <td>0.082057</td>\n",
              "      <td>0.030015</td>\n",
              "      <td>0.248132</td>\n",
              "      <td>0.254395</td>\n",
              "      <td>0.024150</td>\n",
              "      <td>0.173580</td>\n",
              "      <td>0.094311</td>\n",
              "      <td>0.028989</td>\n",
              "      <td>0.029537</td>\n",
              "      <td>0.027417</td>\n",
              "      <td>0.014276</td>\n",
              "      <td>0.023863</td>\n",
              "      <td>0.066432</td>\n",
              "      <td>0.059402</td>\n",
              "      <td>0.040406</td>\n",
              "      <td>0.055514</td>\n",
              "      <td>0.317126</td>\n",
              "    </tr>\n",
              "    <tr>\n",
              "      <th>min</th>\n",
              "      <td>0.145327</td>\n",
              "      <td>0.245359</td>\n",
              "      <td>0.115181</td>\n",
              "      <td>1.330831</td>\n",
              "      <td>1.737540</td>\n",
              "      <td>0.063236</td>\n",
              "      <td>0.064043</td>\n",
              "      <td>1.343998</td>\n",
              "      <td>0.112812</td>\n",
              "      <td>0.429032</td>\n",
              "      <td>0.149155</td>\n",
              "      <td>0.052110</td>\n",
              "      <td>0.191431</td>\n",
              "      <td>0.056818</td>\n",
              "      <td>0.500160</td>\n",
              "      <td>0.281285</td>\n",
              "      <td>0.301609</td>\n",
              "      <td>0.567840</td>\n",
              "      <td>0.095942</td>\n",
              "      <td>0.064421</td>\n",
              "      <td>0.143894</td>\n",
              "      <td>0.212960</td>\n",
              "      <td>0.113636</td>\n",
              "      <td>0.497695</td>\n",
              "      <td>1.131796</td>\n",
              "      <td>0.151124</td>\n",
              "      <td>0.046298</td>\n",
              "      <td>0.147201</td>\n",
              "      <td>0.198743</td>\n",
              "      <td>0.107394</td>\n",
              "      <td>0.235595</td>\n",
              "      <td>1.134886</td>\n",
              "      <td>0.217120</td>\n",
              "      <td>0.201143</td>\n",
              "      <td>0.227880</td>\n",
              "      <td>0.166579</td>\n",
              "      <td>0.155321</td>\n",
              "      <td>0.226409</td>\n",
              "      <td>0.184785</td>\n",
              "      <td>0.185598</td>\n",
              "      <td>0.194824</td>\n",
              "      <td>0.237777</td>\n",
              "      <td>0.131120</td>\n",
              "      <td>0.117999</td>\n",
              "      <td>0.344120</td>\n",
              "      <td>0.099976</td>\n",
              "      <td>0.598767</td>\n",
              "      <td>0.181157</td>\n",
              "      <td>0.130206</td>\n",
              "      <td>0.529108</td>\n",
              "      <td>0.052528</td>\n",
              "      <td>-0.062008</td>\n",
              "      <td>0.072326</td>\n",
              "      <td>0.067254</td>\n",
              "      <td>0.100217</td>\n",
              "      <td>0.099734</td>\n",
              "      <td>0.096233</td>\n",
              "      <td>0.086114</td>\n",
              "      <td>0.111382</td>\n",
              "      <td>0.072580</td>\n",
              "      <td>0.284001</td>\n",
              "      <td>0.207438</td>\n",
              "      <td>0.853176</td>\n",
              "      <td>1.206098</td>\n",
              "      <td>0.101233</td>\n",
              "      <td>0.750664</td>\n",
              "      <td>0.577397</td>\n",
              "      <td>0.155869</td>\n",
              "      <td>0.088305</td>\n",
              "      <td>0.080657</td>\n",
              "      <td>0.067254</td>\n",
              "      <td>0.085419</td>\n",
              "      <td>0.258626</td>\n",
              "      <td>0.079691</td>\n",
              "      <td>0.105537</td>\n",
              "      <td>0.101787</td>\n",
              "      <td>0.586479</td>\n",
              "    </tr>\n",
              "    <tr>\n",
              "      <th>25%</th>\n",
              "      <td>0.288121</td>\n",
              "      <td>0.473361</td>\n",
              "      <td>0.287444</td>\n",
              "      <td>2.057411</td>\n",
              "      <td>3.155678</td>\n",
              "      <td>0.205755</td>\n",
              "      <td>0.164595</td>\n",
              "      <td>2.479834</td>\n",
              "      <td>0.190823</td>\n",
              "      <td>1.203665</td>\n",
              "      <td>0.337405</td>\n",
              "      <td>0.281242</td>\n",
              "      <td>0.281829</td>\n",
              "      <td>0.244287</td>\n",
              "      <td>0.743491</td>\n",
              "      <td>0.590303</td>\n",
              "      <td>1.381288</td>\n",
              "      <td>1.168258</td>\n",
              "      <td>0.404144</td>\n",
              "      <td>0.596816</td>\n",
              "      <td>0.264334</td>\n",
              "      <td>0.330859</td>\n",
              "      <td>0.161830</td>\n",
              "      <td>0.944435</td>\n",
              "      <td>1.991756</td>\n",
              "      <td>1.023134</td>\n",
              "      <td>0.220400</td>\n",
              "      <td>0.247096</td>\n",
              "      <td>0.617074</td>\n",
              "      <td>0.149622</td>\n",
              "      <td>0.366339</td>\n",
              "      <td>1.826707</td>\n",
              "      <td>0.319639</td>\n",
              "      <td>0.410389</td>\n",
              "      <td>0.351992</td>\n",
              "      <td>0.683501</td>\n",
              "      <td>0.530881</td>\n",
              "      <td>0.326621</td>\n",
              "      <td>0.514892</td>\n",
              "      <td>0.312766</td>\n",
              "      <td>0.276127</td>\n",
              "      <td>0.371976</td>\n",
              "      <td>0.281090</td>\n",
              "      <td>0.159334</td>\n",
              "      <td>0.826742</td>\n",
              "      <td>0.149253</td>\n",
              "      <td>1.296830</td>\n",
              "      <td>0.272594</td>\n",
              "      <td>0.316684</td>\n",
              "      <td>0.930548</td>\n",
              "      <td>0.103571</td>\n",
              "      <td>0.149025</td>\n",
              "      <td>0.168172</td>\n",
              "      <td>0.110839</td>\n",
              "      <td>0.146969</td>\n",
              "      <td>0.166451</td>\n",
              "      <td>0.167991</td>\n",
              "      <td>0.112765</td>\n",
              "      <td>0.195665</td>\n",
              "      <td>0.108895</td>\n",
              "      <td>0.475634</td>\n",
              "      <td>0.270059</td>\n",
              "      <td>1.375598</td>\n",
              "      <td>2.079338</td>\n",
              "      <td>0.142838</td>\n",
              "      <td>1.116262</td>\n",
              "      <td>0.793739</td>\n",
              "      <td>0.206395</td>\n",
              "      <td>0.136424</td>\n",
              "      <td>0.115554</td>\n",
              "      <td>0.110839</td>\n",
              "      <td>0.113506</td>\n",
              "      <td>0.398082</td>\n",
              "      <td>0.125848</td>\n",
              "      <td>0.155121</td>\n",
              "      <td>0.165143</td>\n",
              "      <td>1.081423</td>\n",
              "    </tr>\n",
              "    <tr>\n",
              "      <th>50%</th>\n",
              "      <td>0.366378</td>\n",
              "      <td>0.565782</td>\n",
              "      <td>0.316564</td>\n",
              "      <td>2.296546</td>\n",
              "      <td>3.760855</td>\n",
              "      <td>0.231177</td>\n",
              "      <td>0.182302</td>\n",
              "      <td>3.326520</td>\n",
              "      <td>0.210594</td>\n",
              "      <td>1.355846</td>\n",
              "      <td>0.443644</td>\n",
              "      <td>0.321330</td>\n",
              "      <td>0.312977</td>\n",
              "      <td>0.277393</td>\n",
              "      <td>0.821076</td>\n",
              "      <td>0.719591</td>\n",
              "      <td>1.563696</td>\n",
              "      <td>1.365744</td>\n",
              "      <td>0.440598</td>\n",
              "      <td>0.682469</td>\n",
              "      <td>0.326658</td>\n",
              "      <td>0.360260</td>\n",
              "      <td>0.179580</td>\n",
              "      <td>1.096186</td>\n",
              "      <td>2.401462</td>\n",
              "      <td>1.159822</td>\n",
              "      <td>0.244947</td>\n",
              "      <td>0.273361</td>\n",
              "      <td>0.704964</td>\n",
              "      <td>0.166692</td>\n",
              "      <td>0.402039</td>\n",
              "      <td>2.114769</td>\n",
              "      <td>0.444134</td>\n",
              "      <td>0.452491</td>\n",
              "      <td>0.407793</td>\n",
              "      <td>0.760756</td>\n",
              "      <td>0.576712</td>\n",
              "      <td>0.358503</td>\n",
              "      <td>0.563472</td>\n",
              "      <td>0.347357</td>\n",
              "      <td>0.304897</td>\n",
              "      <td>0.407200</td>\n",
              "      <td>0.377700</td>\n",
              "      <td>0.178235</td>\n",
              "      <td>0.931283</td>\n",
              "      <td>0.160212</td>\n",
              "      <td>1.664560</td>\n",
              "      <td>0.293820</td>\n",
              "      <td>0.400999</td>\n",
              "      <td>1.128255</td>\n",
              "      <td>0.150417</td>\n",
              "      <td>0.162099</td>\n",
              "      <td>0.180745</td>\n",
              "      <td>0.121626</td>\n",
              "      <td>0.156371</td>\n",
              "      <td>0.182672</td>\n",
              "      <td>0.188630</td>\n",
              "      <td>0.120459</td>\n",
              "      <td>0.216902</td>\n",
              "      <td>0.123549</td>\n",
              "      <td>0.526681</td>\n",
              "      <td>0.290646</td>\n",
              "      <td>1.522693</td>\n",
              "      <td>2.242197</td>\n",
              "      <td>0.157549</td>\n",
              "      <td>1.236586</td>\n",
              "      <td>0.849858</td>\n",
              "      <td>0.224000</td>\n",
              "      <td>0.152313</td>\n",
              "      <td>0.129468</td>\n",
              "      <td>0.121626</td>\n",
              "      <td>0.126523</td>\n",
              "      <td>0.448459</td>\n",
              "      <td>0.158240</td>\n",
              "      <td>0.174935</td>\n",
              "      <td>0.193994</td>\n",
              "      <td>1.317441</td>\n",
              "    </tr>\n",
              "    <tr>\n",
              "      <th>75%</th>\n",
              "      <td>0.487711</td>\n",
              "      <td>0.698032</td>\n",
              "      <td>0.348197</td>\n",
              "      <td>2.528481</td>\n",
              "      <td>4.440011</td>\n",
              "      <td>0.257261</td>\n",
              "      <td>0.197418</td>\n",
              "      <td>4.481940</td>\n",
              "      <td>0.234595</td>\n",
              "      <td>1.561316</td>\n",
              "      <td>0.663297</td>\n",
              "      <td>0.348714</td>\n",
              "      <td>0.352304</td>\n",
              "      <td>0.303450</td>\n",
              "      <td>0.898460</td>\n",
              "      <td>0.848640</td>\n",
              "      <td>1.748538</td>\n",
              "      <td>1.885899</td>\n",
              "      <td>0.482096</td>\n",
              "      <td>0.759695</td>\n",
              "      <td>0.413561</td>\n",
              "      <td>0.393851</td>\n",
              "      <td>0.195718</td>\n",
              "      <td>1.323581</td>\n",
              "      <td>2.872606</td>\n",
              "      <td>1.309673</td>\n",
              "      <td>0.263291</td>\n",
              "      <td>0.300760</td>\n",
              "      <td>0.774158</td>\n",
              "      <td>0.184533</td>\n",
              "      <td>0.441897</td>\n",
              "      <td>2.423875</td>\n",
              "      <td>0.695777</td>\n",
              "      <td>0.488028</td>\n",
              "      <td>0.466330</td>\n",
              "      <td>0.841517</td>\n",
              "      <td>0.634433</td>\n",
              "      <td>0.400760</td>\n",
              "      <td>0.614498</td>\n",
              "      <td>0.392693</td>\n",
              "      <td>0.347331</td>\n",
              "      <td>0.455989</td>\n",
              "      <td>0.481118</td>\n",
              "      <td>0.197237</td>\n",
              "      <td>1.045145</td>\n",
              "      <td>0.171739</td>\n",
              "      <td>2.112973</td>\n",
              "      <td>0.312484</td>\n",
              "      <td>0.534881</td>\n",
              "      <td>1.380233</td>\n",
              "      <td>0.269653</td>\n",
              "      <td>0.177411</td>\n",
              "      <td>0.191577</td>\n",
              "      <td>0.131955</td>\n",
              "      <td>0.165421</td>\n",
              "      <td>0.198568</td>\n",
              "      <td>0.233943</td>\n",
              "      <td>0.127724</td>\n",
              "      <td>0.246041</td>\n",
              "      <td>0.141949</td>\n",
              "      <td>0.576992</td>\n",
              "      <td>0.311602</td>\n",
              "      <td>1.713087</td>\n",
              "      <td>2.420226</td>\n",
              "      <td>0.173303</td>\n",
              "      <td>1.363079</td>\n",
              "      <td>0.916173</td>\n",
              "      <td>0.241655</td>\n",
              "      <td>0.174017</td>\n",
              "      <td>0.148235</td>\n",
              "      <td>0.131955</td>\n",
              "      <td>0.143652</td>\n",
              "      <td>0.490773</td>\n",
              "      <td>0.197876</td>\n",
              "      <td>0.204542</td>\n",
              "      <td>0.235215</td>\n",
              "      <td>1.585824</td>\n",
              "    </tr>\n",
              "    <tr>\n",
              "      <th>max</th>\n",
              "      <td>2.516367</td>\n",
              "      <td>2.602662</td>\n",
              "      <td>0.497160</td>\n",
              "      <td>3.757641</td>\n",
              "      <td>8.482553</td>\n",
              "      <td>0.539050</td>\n",
              "      <td>0.317066</td>\n",
              "      <td>7.464070</td>\n",
              "      <td>0.306247</td>\n",
              "      <td>6.113347</td>\n",
              "      <td>3.566685</td>\n",
              "      <td>0.493426</td>\n",
              "      <td>0.473992</td>\n",
              "      <td>0.458001</td>\n",
              "      <td>1.408169</td>\n",
              "      <td>1.412750</td>\n",
              "      <td>2.723965</td>\n",
              "      <td>3.061387</td>\n",
              "      <td>0.650962</td>\n",
              "      <td>1.182175</td>\n",
              "      <td>2.133416</td>\n",
              "      <td>0.586245</td>\n",
              "      <td>0.319558</td>\n",
              "      <td>2.802948</td>\n",
              "      <td>5.198404</td>\n",
              "      <td>2.475751</td>\n",
              "      <td>0.387191</td>\n",
              "      <td>0.415408</td>\n",
              "      <td>1.001623</td>\n",
              "      <td>0.305136</td>\n",
              "      <td>0.632663</td>\n",
              "      <td>3.680552</td>\n",
              "      <td>1.872899</td>\n",
              "      <td>0.676748</td>\n",
              "      <td>0.933256</td>\n",
              "      <td>1.124883</td>\n",
              "      <td>0.916429</td>\n",
              "      <td>0.700839</td>\n",
              "      <td>0.972020</td>\n",
              "      <td>0.631052</td>\n",
              "      <td>0.526681</td>\n",
              "      <td>0.722122</td>\n",
              "      <td>1.129171</td>\n",
              "      <td>0.316575</td>\n",
              "      <td>1.679953</td>\n",
              "      <td>0.253210</td>\n",
              "      <td>3.381976</td>\n",
              "      <td>0.817402</td>\n",
              "      <td>0.822611</td>\n",
              "      <td>2.539890</td>\n",
              "      <td>1.459387</td>\n",
              "      <td>0.612377</td>\n",
              "      <td>0.241141</td>\n",
              "      <td>0.158748</td>\n",
              "      <td>0.208698</td>\n",
              "      <td>0.260739</td>\n",
              "      <td>0.602768</td>\n",
              "      <td>0.213621</td>\n",
              "      <td>0.331016</td>\n",
              "      <td>0.537004</td>\n",
              "      <td>0.889735</td>\n",
              "      <td>0.443735</td>\n",
              "      <td>2.586216</td>\n",
              "      <td>2.877873</td>\n",
              "      <td>0.257616</td>\n",
              "      <td>1.897202</td>\n",
              "      <td>1.204598</td>\n",
              "      <td>0.358289</td>\n",
              "      <td>0.282016</td>\n",
              "      <td>0.261506</td>\n",
              "      <td>0.158748</td>\n",
              "      <td>0.256529</td>\n",
              "      <td>0.759588</td>\n",
              "      <td>0.479763</td>\n",
              "      <td>0.360692</td>\n",
              "      <td>0.413903</td>\n",
              "      <td>2.129791</td>\n",
              "    </tr>\n",
              "  </tbody>\n",
              "</table>\n",
              "</div>"
            ],
            "text/plain": [
              "          DYRK1A_N      ITSN1_N  ...    H3MeK4_N       CaNA_N\n",
              "count  1077.000000  1077.000000  ...  810.000000  1080.000000\n",
              "mean      0.425810     0.617102  ...    0.205440     1.337784\n",
              "std       0.249362     0.251640  ...    0.055514     0.317126\n",
              "min       0.145327     0.245359  ...    0.101787     0.586479\n",
              "25%       0.288121     0.473361  ...    0.165143     1.081423\n",
              "50%       0.366378     0.565782  ...    0.193994     1.317441\n",
              "75%       0.487711     0.698032  ...    0.235215     1.585824\n",
              "max       2.516367     2.602662  ...    0.413903     2.129791\n",
              "\n",
              "[8 rows x 77 columns]"
            ]
          },
          "metadata": {
            "tags": []
          },
          "execution_count": 111
        }
      ]
    },
    {
      "cell_type": "code",
      "metadata": {
        "id": "mJcE56VmnnF8",
        "colab_type": "code",
        "colab": {
          "base_uri": "https://localhost:8080/",
          "height": 265
        },
        "outputId": "20151897-66ef-4e38-ea6c-3be06cab96a1"
      },
      "source": [
        "data.columns  "
      ],
      "execution_count": 112,
      "outputs": [
        {
          "output_type": "execute_result",
          "data": {
            "text/plain": [
              "Index(['MouseID', 'DYRK1A_N', 'ITSN1_N', 'BDNF_N', 'NR1_N', 'NR2A_N', 'pAKT_N',\n",
              "       'pBRAF_N', 'pCAMKII_N', 'pCREB_N', 'pELK_N', 'pERK_N', 'pJNK_N',\n",
              "       'PKCA_N', 'pMEK_N', 'pNR1_N', 'pNR2A_N', 'pNR2B_N', 'pPKCAB_N',\n",
              "       'pRSK_N', 'AKT_N', 'BRAF_N', 'CAMKII_N', 'CREB_N', 'ELK_N', 'ERK_N',\n",
              "       'GSK3B_N', 'JNK_N', 'MEK_N', 'TRKA_N', 'RSK_N', 'APP_N', 'Bcatenin_N',\n",
              "       'SOD1_N', 'MTOR_N', 'P38_N', 'pMTOR_N', 'DSCR1_N', 'AMPKA_N', 'NR2B_N',\n",
              "       'pNUMB_N', 'RAPTOR_N', 'TIAM1_N', 'pP70S6_N', 'NUMB_N', 'P70S6_N',\n",
              "       'pGSK3B_N', 'pPKCG_N', 'CDK5_N', 'S6_N', 'ADARB1_N', 'AcetylH3K9_N',\n",
              "       'RRP1_N', 'BAX_N', 'ARC_N', 'ERBB4_N', 'nNOS_N', 'Tau_N', 'GFAP_N',\n",
              "       'GluR3_N', 'GluR4_N', 'IL1B_N', 'P3525_N', 'pCASP9_N', 'PSD95_N',\n",
              "       'SNCA_N', 'Ubiquitin_N', 'pGSK3B_Tyr216_N', 'SHH_N', 'BAD_N', 'BCL2_N',\n",
              "       'pS6_N', 'pCFOS_N', 'SYP_N', 'H3AcK18_N', 'EGR1_N', 'H3MeK4_N',\n",
              "       'CaNA_N', 'Genotype', 'Treatment', 'Behavior', 'class'],\n",
              "      dtype='object')"
            ]
          },
          "metadata": {
            "tags": []
          },
          "execution_count": 112
        }
      ]
    },
    {
      "cell_type": "markdown",
      "metadata": {
        "id": "UO7f4xyknuAt",
        "colab_type": "text"
      },
      "source": [
        "check null data"
      ]
    },
    {
      "cell_type": "code",
      "metadata": {
        "id": "4j8s2GZtnsAs",
        "colab_type": "code",
        "colab": {
          "base_uri": "https://localhost:8080/",
          "height": 426
        },
        "outputId": "c537e74c-c42f-4ba0-f21b-5dcfb27b6bdd"
      },
      "source": [
        "data.isnull()"
      ],
      "execution_count": 113,
      "outputs": [
        {
          "output_type": "execute_result",
          "data": {
            "text/html": [
              "<div>\n",
              "<style scoped>\n",
              "    .dataframe tbody tr th:only-of-type {\n",
              "        vertical-align: middle;\n",
              "    }\n",
              "\n",
              "    .dataframe tbody tr th {\n",
              "        vertical-align: top;\n",
              "    }\n",
              "\n",
              "    .dataframe thead th {\n",
              "        text-align: right;\n",
              "    }\n",
              "</style>\n",
              "<table border=\"1\" class=\"dataframe\">\n",
              "  <thead>\n",
              "    <tr style=\"text-align: right;\">\n",
              "      <th></th>\n",
              "      <th>MouseID</th>\n",
              "      <th>DYRK1A_N</th>\n",
              "      <th>ITSN1_N</th>\n",
              "      <th>BDNF_N</th>\n",
              "      <th>NR1_N</th>\n",
              "      <th>NR2A_N</th>\n",
              "      <th>pAKT_N</th>\n",
              "      <th>pBRAF_N</th>\n",
              "      <th>pCAMKII_N</th>\n",
              "      <th>pCREB_N</th>\n",
              "      <th>pELK_N</th>\n",
              "      <th>pERK_N</th>\n",
              "      <th>pJNK_N</th>\n",
              "      <th>PKCA_N</th>\n",
              "      <th>pMEK_N</th>\n",
              "      <th>pNR1_N</th>\n",
              "      <th>pNR2A_N</th>\n",
              "      <th>pNR2B_N</th>\n",
              "      <th>pPKCAB_N</th>\n",
              "      <th>pRSK_N</th>\n",
              "      <th>AKT_N</th>\n",
              "      <th>BRAF_N</th>\n",
              "      <th>CAMKII_N</th>\n",
              "      <th>CREB_N</th>\n",
              "      <th>ELK_N</th>\n",
              "      <th>ERK_N</th>\n",
              "      <th>GSK3B_N</th>\n",
              "      <th>JNK_N</th>\n",
              "      <th>MEK_N</th>\n",
              "      <th>TRKA_N</th>\n",
              "      <th>RSK_N</th>\n",
              "      <th>APP_N</th>\n",
              "      <th>Bcatenin_N</th>\n",
              "      <th>SOD1_N</th>\n",
              "      <th>MTOR_N</th>\n",
              "      <th>P38_N</th>\n",
              "      <th>pMTOR_N</th>\n",
              "      <th>DSCR1_N</th>\n",
              "      <th>AMPKA_N</th>\n",
              "      <th>NR2B_N</th>\n",
              "      <th>...</th>\n",
              "      <th>TIAM1_N</th>\n",
              "      <th>pP70S6_N</th>\n",
              "      <th>NUMB_N</th>\n",
              "      <th>P70S6_N</th>\n",
              "      <th>pGSK3B_N</th>\n",
              "      <th>pPKCG_N</th>\n",
              "      <th>CDK5_N</th>\n",
              "      <th>S6_N</th>\n",
              "      <th>ADARB1_N</th>\n",
              "      <th>AcetylH3K9_N</th>\n",
              "      <th>RRP1_N</th>\n",
              "      <th>BAX_N</th>\n",
              "      <th>ARC_N</th>\n",
              "      <th>ERBB4_N</th>\n",
              "      <th>nNOS_N</th>\n",
              "      <th>Tau_N</th>\n",
              "      <th>GFAP_N</th>\n",
              "      <th>GluR3_N</th>\n",
              "      <th>GluR4_N</th>\n",
              "      <th>IL1B_N</th>\n",
              "      <th>P3525_N</th>\n",
              "      <th>pCASP9_N</th>\n",
              "      <th>PSD95_N</th>\n",
              "      <th>SNCA_N</th>\n",
              "      <th>Ubiquitin_N</th>\n",
              "      <th>pGSK3B_Tyr216_N</th>\n",
              "      <th>SHH_N</th>\n",
              "      <th>BAD_N</th>\n",
              "      <th>BCL2_N</th>\n",
              "      <th>pS6_N</th>\n",
              "      <th>pCFOS_N</th>\n",
              "      <th>SYP_N</th>\n",
              "      <th>H3AcK18_N</th>\n",
              "      <th>EGR1_N</th>\n",
              "      <th>H3MeK4_N</th>\n",
              "      <th>CaNA_N</th>\n",
              "      <th>Genotype</th>\n",
              "      <th>Treatment</th>\n",
              "      <th>Behavior</th>\n",
              "      <th>class</th>\n",
              "    </tr>\n",
              "  </thead>\n",
              "  <tbody>\n",
              "    <tr>\n",
              "      <th>0</th>\n",
              "      <td>False</td>\n",
              "      <td>False</td>\n",
              "      <td>False</td>\n",
              "      <td>False</td>\n",
              "      <td>False</td>\n",
              "      <td>False</td>\n",
              "      <td>False</td>\n",
              "      <td>False</td>\n",
              "      <td>False</td>\n",
              "      <td>False</td>\n",
              "      <td>False</td>\n",
              "      <td>False</td>\n",
              "      <td>False</td>\n",
              "      <td>False</td>\n",
              "      <td>False</td>\n",
              "      <td>False</td>\n",
              "      <td>False</td>\n",
              "      <td>False</td>\n",
              "      <td>False</td>\n",
              "      <td>False</td>\n",
              "      <td>False</td>\n",
              "      <td>False</td>\n",
              "      <td>False</td>\n",
              "      <td>False</td>\n",
              "      <td>False</td>\n",
              "      <td>False</td>\n",
              "      <td>False</td>\n",
              "      <td>False</td>\n",
              "      <td>False</td>\n",
              "      <td>False</td>\n",
              "      <td>False</td>\n",
              "      <td>False</td>\n",
              "      <td>False</td>\n",
              "      <td>False</td>\n",
              "      <td>False</td>\n",
              "      <td>False</td>\n",
              "      <td>False</td>\n",
              "      <td>False</td>\n",
              "      <td>False</td>\n",
              "      <td>False</td>\n",
              "      <td>...</td>\n",
              "      <td>False</td>\n",
              "      <td>False</td>\n",
              "      <td>False</td>\n",
              "      <td>False</td>\n",
              "      <td>False</td>\n",
              "      <td>False</td>\n",
              "      <td>False</td>\n",
              "      <td>False</td>\n",
              "      <td>False</td>\n",
              "      <td>False</td>\n",
              "      <td>False</td>\n",
              "      <td>False</td>\n",
              "      <td>False</td>\n",
              "      <td>False</td>\n",
              "      <td>False</td>\n",
              "      <td>False</td>\n",
              "      <td>False</td>\n",
              "      <td>False</td>\n",
              "      <td>False</td>\n",
              "      <td>False</td>\n",
              "      <td>False</td>\n",
              "      <td>False</td>\n",
              "      <td>False</td>\n",
              "      <td>False</td>\n",
              "      <td>False</td>\n",
              "      <td>False</td>\n",
              "      <td>False</td>\n",
              "      <td>False</td>\n",
              "      <td>True</td>\n",
              "      <td>False</td>\n",
              "      <td>False</td>\n",
              "      <td>False</td>\n",
              "      <td>False</td>\n",
              "      <td>False</td>\n",
              "      <td>False</td>\n",
              "      <td>False</td>\n",
              "      <td>False</td>\n",
              "      <td>False</td>\n",
              "      <td>False</td>\n",
              "      <td>False</td>\n",
              "    </tr>\n",
              "    <tr>\n",
              "      <th>1</th>\n",
              "      <td>False</td>\n",
              "      <td>False</td>\n",
              "      <td>False</td>\n",
              "      <td>False</td>\n",
              "      <td>False</td>\n",
              "      <td>False</td>\n",
              "      <td>False</td>\n",
              "      <td>False</td>\n",
              "      <td>False</td>\n",
              "      <td>False</td>\n",
              "      <td>False</td>\n",
              "      <td>False</td>\n",
              "      <td>False</td>\n",
              "      <td>False</td>\n",
              "      <td>False</td>\n",
              "      <td>False</td>\n",
              "      <td>False</td>\n",
              "      <td>False</td>\n",
              "      <td>False</td>\n",
              "      <td>False</td>\n",
              "      <td>False</td>\n",
              "      <td>False</td>\n",
              "      <td>False</td>\n",
              "      <td>False</td>\n",
              "      <td>False</td>\n",
              "      <td>False</td>\n",
              "      <td>False</td>\n",
              "      <td>False</td>\n",
              "      <td>False</td>\n",
              "      <td>False</td>\n",
              "      <td>False</td>\n",
              "      <td>False</td>\n",
              "      <td>False</td>\n",
              "      <td>False</td>\n",
              "      <td>False</td>\n",
              "      <td>False</td>\n",
              "      <td>False</td>\n",
              "      <td>False</td>\n",
              "      <td>False</td>\n",
              "      <td>False</td>\n",
              "      <td>...</td>\n",
              "      <td>False</td>\n",
              "      <td>False</td>\n",
              "      <td>False</td>\n",
              "      <td>False</td>\n",
              "      <td>False</td>\n",
              "      <td>False</td>\n",
              "      <td>False</td>\n",
              "      <td>False</td>\n",
              "      <td>False</td>\n",
              "      <td>False</td>\n",
              "      <td>False</td>\n",
              "      <td>False</td>\n",
              "      <td>False</td>\n",
              "      <td>False</td>\n",
              "      <td>False</td>\n",
              "      <td>False</td>\n",
              "      <td>False</td>\n",
              "      <td>False</td>\n",
              "      <td>False</td>\n",
              "      <td>False</td>\n",
              "      <td>False</td>\n",
              "      <td>False</td>\n",
              "      <td>False</td>\n",
              "      <td>False</td>\n",
              "      <td>False</td>\n",
              "      <td>False</td>\n",
              "      <td>False</td>\n",
              "      <td>False</td>\n",
              "      <td>True</td>\n",
              "      <td>False</td>\n",
              "      <td>False</td>\n",
              "      <td>False</td>\n",
              "      <td>False</td>\n",
              "      <td>False</td>\n",
              "      <td>False</td>\n",
              "      <td>False</td>\n",
              "      <td>False</td>\n",
              "      <td>False</td>\n",
              "      <td>False</td>\n",
              "      <td>False</td>\n",
              "    </tr>\n",
              "    <tr>\n",
              "      <th>2</th>\n",
              "      <td>False</td>\n",
              "      <td>False</td>\n",
              "      <td>False</td>\n",
              "      <td>False</td>\n",
              "      <td>False</td>\n",
              "      <td>False</td>\n",
              "      <td>False</td>\n",
              "      <td>False</td>\n",
              "      <td>False</td>\n",
              "      <td>False</td>\n",
              "      <td>False</td>\n",
              "      <td>False</td>\n",
              "      <td>False</td>\n",
              "      <td>False</td>\n",
              "      <td>False</td>\n",
              "      <td>False</td>\n",
              "      <td>False</td>\n",
              "      <td>False</td>\n",
              "      <td>False</td>\n",
              "      <td>False</td>\n",
              "      <td>False</td>\n",
              "      <td>False</td>\n",
              "      <td>False</td>\n",
              "      <td>False</td>\n",
              "      <td>False</td>\n",
              "      <td>False</td>\n",
              "      <td>False</td>\n",
              "      <td>False</td>\n",
              "      <td>False</td>\n",
              "      <td>False</td>\n",
              "      <td>False</td>\n",
              "      <td>False</td>\n",
              "      <td>False</td>\n",
              "      <td>False</td>\n",
              "      <td>False</td>\n",
              "      <td>False</td>\n",
              "      <td>False</td>\n",
              "      <td>False</td>\n",
              "      <td>False</td>\n",
              "      <td>False</td>\n",
              "      <td>...</td>\n",
              "      <td>False</td>\n",
              "      <td>False</td>\n",
              "      <td>False</td>\n",
              "      <td>False</td>\n",
              "      <td>False</td>\n",
              "      <td>False</td>\n",
              "      <td>False</td>\n",
              "      <td>False</td>\n",
              "      <td>False</td>\n",
              "      <td>False</td>\n",
              "      <td>False</td>\n",
              "      <td>False</td>\n",
              "      <td>False</td>\n",
              "      <td>False</td>\n",
              "      <td>False</td>\n",
              "      <td>False</td>\n",
              "      <td>False</td>\n",
              "      <td>False</td>\n",
              "      <td>False</td>\n",
              "      <td>False</td>\n",
              "      <td>False</td>\n",
              "      <td>False</td>\n",
              "      <td>False</td>\n",
              "      <td>False</td>\n",
              "      <td>False</td>\n",
              "      <td>False</td>\n",
              "      <td>False</td>\n",
              "      <td>False</td>\n",
              "      <td>True</td>\n",
              "      <td>False</td>\n",
              "      <td>False</td>\n",
              "      <td>False</td>\n",
              "      <td>False</td>\n",
              "      <td>False</td>\n",
              "      <td>False</td>\n",
              "      <td>False</td>\n",
              "      <td>False</td>\n",
              "      <td>False</td>\n",
              "      <td>False</td>\n",
              "      <td>False</td>\n",
              "    </tr>\n",
              "    <tr>\n",
              "      <th>3</th>\n",
              "      <td>False</td>\n",
              "      <td>False</td>\n",
              "      <td>False</td>\n",
              "      <td>False</td>\n",
              "      <td>False</td>\n",
              "      <td>False</td>\n",
              "      <td>False</td>\n",
              "      <td>False</td>\n",
              "      <td>False</td>\n",
              "      <td>False</td>\n",
              "      <td>False</td>\n",
              "      <td>False</td>\n",
              "      <td>False</td>\n",
              "      <td>False</td>\n",
              "      <td>False</td>\n",
              "      <td>False</td>\n",
              "      <td>False</td>\n",
              "      <td>False</td>\n",
              "      <td>False</td>\n",
              "      <td>False</td>\n",
              "      <td>False</td>\n",
              "      <td>False</td>\n",
              "      <td>False</td>\n",
              "      <td>False</td>\n",
              "      <td>False</td>\n",
              "      <td>False</td>\n",
              "      <td>False</td>\n",
              "      <td>False</td>\n",
              "      <td>False</td>\n",
              "      <td>False</td>\n",
              "      <td>False</td>\n",
              "      <td>False</td>\n",
              "      <td>False</td>\n",
              "      <td>False</td>\n",
              "      <td>False</td>\n",
              "      <td>False</td>\n",
              "      <td>False</td>\n",
              "      <td>False</td>\n",
              "      <td>False</td>\n",
              "      <td>False</td>\n",
              "      <td>...</td>\n",
              "      <td>False</td>\n",
              "      <td>False</td>\n",
              "      <td>False</td>\n",
              "      <td>False</td>\n",
              "      <td>False</td>\n",
              "      <td>False</td>\n",
              "      <td>False</td>\n",
              "      <td>False</td>\n",
              "      <td>False</td>\n",
              "      <td>False</td>\n",
              "      <td>False</td>\n",
              "      <td>False</td>\n",
              "      <td>False</td>\n",
              "      <td>False</td>\n",
              "      <td>False</td>\n",
              "      <td>False</td>\n",
              "      <td>False</td>\n",
              "      <td>False</td>\n",
              "      <td>False</td>\n",
              "      <td>False</td>\n",
              "      <td>False</td>\n",
              "      <td>False</td>\n",
              "      <td>False</td>\n",
              "      <td>False</td>\n",
              "      <td>False</td>\n",
              "      <td>False</td>\n",
              "      <td>False</td>\n",
              "      <td>False</td>\n",
              "      <td>True</td>\n",
              "      <td>False</td>\n",
              "      <td>False</td>\n",
              "      <td>False</td>\n",
              "      <td>False</td>\n",
              "      <td>False</td>\n",
              "      <td>False</td>\n",
              "      <td>False</td>\n",
              "      <td>False</td>\n",
              "      <td>False</td>\n",
              "      <td>False</td>\n",
              "      <td>False</td>\n",
              "    </tr>\n",
              "    <tr>\n",
              "      <th>4</th>\n",
              "      <td>False</td>\n",
              "      <td>False</td>\n",
              "      <td>False</td>\n",
              "      <td>False</td>\n",
              "      <td>False</td>\n",
              "      <td>False</td>\n",
              "      <td>False</td>\n",
              "      <td>False</td>\n",
              "      <td>False</td>\n",
              "      <td>False</td>\n",
              "      <td>False</td>\n",
              "      <td>False</td>\n",
              "      <td>False</td>\n",
              "      <td>False</td>\n",
              "      <td>False</td>\n",
              "      <td>False</td>\n",
              "      <td>False</td>\n",
              "      <td>False</td>\n",
              "      <td>False</td>\n",
              "      <td>False</td>\n",
              "      <td>False</td>\n",
              "      <td>False</td>\n",
              "      <td>False</td>\n",
              "      <td>False</td>\n",
              "      <td>False</td>\n",
              "      <td>False</td>\n",
              "      <td>False</td>\n",
              "      <td>False</td>\n",
              "      <td>False</td>\n",
              "      <td>False</td>\n",
              "      <td>False</td>\n",
              "      <td>False</td>\n",
              "      <td>False</td>\n",
              "      <td>False</td>\n",
              "      <td>False</td>\n",
              "      <td>False</td>\n",
              "      <td>False</td>\n",
              "      <td>False</td>\n",
              "      <td>False</td>\n",
              "      <td>False</td>\n",
              "      <td>...</td>\n",
              "      <td>False</td>\n",
              "      <td>False</td>\n",
              "      <td>False</td>\n",
              "      <td>False</td>\n",
              "      <td>False</td>\n",
              "      <td>False</td>\n",
              "      <td>False</td>\n",
              "      <td>False</td>\n",
              "      <td>False</td>\n",
              "      <td>False</td>\n",
              "      <td>False</td>\n",
              "      <td>False</td>\n",
              "      <td>False</td>\n",
              "      <td>False</td>\n",
              "      <td>False</td>\n",
              "      <td>False</td>\n",
              "      <td>False</td>\n",
              "      <td>False</td>\n",
              "      <td>False</td>\n",
              "      <td>False</td>\n",
              "      <td>False</td>\n",
              "      <td>False</td>\n",
              "      <td>False</td>\n",
              "      <td>False</td>\n",
              "      <td>False</td>\n",
              "      <td>False</td>\n",
              "      <td>False</td>\n",
              "      <td>False</td>\n",
              "      <td>True</td>\n",
              "      <td>False</td>\n",
              "      <td>False</td>\n",
              "      <td>False</td>\n",
              "      <td>False</td>\n",
              "      <td>False</td>\n",
              "      <td>False</td>\n",
              "      <td>False</td>\n",
              "      <td>False</td>\n",
              "      <td>False</td>\n",
              "      <td>False</td>\n",
              "      <td>False</td>\n",
              "    </tr>\n",
              "    <tr>\n",
              "      <th>...</th>\n",
              "      <td>...</td>\n",
              "      <td>...</td>\n",
              "      <td>...</td>\n",
              "      <td>...</td>\n",
              "      <td>...</td>\n",
              "      <td>...</td>\n",
              "      <td>...</td>\n",
              "      <td>...</td>\n",
              "      <td>...</td>\n",
              "      <td>...</td>\n",
              "      <td>...</td>\n",
              "      <td>...</td>\n",
              "      <td>...</td>\n",
              "      <td>...</td>\n",
              "      <td>...</td>\n",
              "      <td>...</td>\n",
              "      <td>...</td>\n",
              "      <td>...</td>\n",
              "      <td>...</td>\n",
              "      <td>...</td>\n",
              "      <td>...</td>\n",
              "      <td>...</td>\n",
              "      <td>...</td>\n",
              "      <td>...</td>\n",
              "      <td>...</td>\n",
              "      <td>...</td>\n",
              "      <td>...</td>\n",
              "      <td>...</td>\n",
              "      <td>...</td>\n",
              "      <td>...</td>\n",
              "      <td>...</td>\n",
              "      <td>...</td>\n",
              "      <td>...</td>\n",
              "      <td>...</td>\n",
              "      <td>...</td>\n",
              "      <td>...</td>\n",
              "      <td>...</td>\n",
              "      <td>...</td>\n",
              "      <td>...</td>\n",
              "      <td>...</td>\n",
              "      <td>...</td>\n",
              "      <td>...</td>\n",
              "      <td>...</td>\n",
              "      <td>...</td>\n",
              "      <td>...</td>\n",
              "      <td>...</td>\n",
              "      <td>...</td>\n",
              "      <td>...</td>\n",
              "      <td>...</td>\n",
              "      <td>...</td>\n",
              "      <td>...</td>\n",
              "      <td>...</td>\n",
              "      <td>...</td>\n",
              "      <td>...</td>\n",
              "      <td>...</td>\n",
              "      <td>...</td>\n",
              "      <td>...</td>\n",
              "      <td>...</td>\n",
              "      <td>...</td>\n",
              "      <td>...</td>\n",
              "      <td>...</td>\n",
              "      <td>...</td>\n",
              "      <td>...</td>\n",
              "      <td>...</td>\n",
              "      <td>...</td>\n",
              "      <td>...</td>\n",
              "      <td>...</td>\n",
              "      <td>...</td>\n",
              "      <td>...</td>\n",
              "      <td>...</td>\n",
              "      <td>...</td>\n",
              "      <td>...</td>\n",
              "      <td>...</td>\n",
              "      <td>...</td>\n",
              "      <td>...</td>\n",
              "      <td>...</td>\n",
              "      <td>...</td>\n",
              "      <td>...</td>\n",
              "      <td>...</td>\n",
              "      <td>...</td>\n",
              "      <td>...</td>\n",
              "    </tr>\n",
              "    <tr>\n",
              "      <th>1075</th>\n",
              "      <td>False</td>\n",
              "      <td>False</td>\n",
              "      <td>False</td>\n",
              "      <td>False</td>\n",
              "      <td>False</td>\n",
              "      <td>False</td>\n",
              "      <td>False</td>\n",
              "      <td>False</td>\n",
              "      <td>False</td>\n",
              "      <td>False</td>\n",
              "      <td>False</td>\n",
              "      <td>False</td>\n",
              "      <td>False</td>\n",
              "      <td>False</td>\n",
              "      <td>False</td>\n",
              "      <td>False</td>\n",
              "      <td>False</td>\n",
              "      <td>False</td>\n",
              "      <td>False</td>\n",
              "      <td>False</td>\n",
              "      <td>False</td>\n",
              "      <td>False</td>\n",
              "      <td>False</td>\n",
              "      <td>False</td>\n",
              "      <td>False</td>\n",
              "      <td>False</td>\n",
              "      <td>False</td>\n",
              "      <td>False</td>\n",
              "      <td>False</td>\n",
              "      <td>False</td>\n",
              "      <td>False</td>\n",
              "      <td>False</td>\n",
              "      <td>False</td>\n",
              "      <td>False</td>\n",
              "      <td>False</td>\n",
              "      <td>False</td>\n",
              "      <td>False</td>\n",
              "      <td>False</td>\n",
              "      <td>False</td>\n",
              "      <td>False</td>\n",
              "      <td>...</td>\n",
              "      <td>False</td>\n",
              "      <td>False</td>\n",
              "      <td>False</td>\n",
              "      <td>False</td>\n",
              "      <td>False</td>\n",
              "      <td>False</td>\n",
              "      <td>False</td>\n",
              "      <td>False</td>\n",
              "      <td>False</td>\n",
              "      <td>False</td>\n",
              "      <td>False</td>\n",
              "      <td>False</td>\n",
              "      <td>False</td>\n",
              "      <td>False</td>\n",
              "      <td>False</td>\n",
              "      <td>False</td>\n",
              "      <td>False</td>\n",
              "      <td>False</td>\n",
              "      <td>False</td>\n",
              "      <td>False</td>\n",
              "      <td>False</td>\n",
              "      <td>False</td>\n",
              "      <td>False</td>\n",
              "      <td>False</td>\n",
              "      <td>False</td>\n",
              "      <td>False</td>\n",
              "      <td>False</td>\n",
              "      <td>False</td>\n",
              "      <td>True</td>\n",
              "      <td>False</td>\n",
              "      <td>False</td>\n",
              "      <td>False</td>\n",
              "      <td>False</td>\n",
              "      <td>False</td>\n",
              "      <td>False</td>\n",
              "      <td>False</td>\n",
              "      <td>False</td>\n",
              "      <td>False</td>\n",
              "      <td>False</td>\n",
              "      <td>False</td>\n",
              "    </tr>\n",
              "    <tr>\n",
              "      <th>1076</th>\n",
              "      <td>False</td>\n",
              "      <td>False</td>\n",
              "      <td>False</td>\n",
              "      <td>False</td>\n",
              "      <td>False</td>\n",
              "      <td>False</td>\n",
              "      <td>False</td>\n",
              "      <td>False</td>\n",
              "      <td>False</td>\n",
              "      <td>False</td>\n",
              "      <td>False</td>\n",
              "      <td>False</td>\n",
              "      <td>False</td>\n",
              "      <td>False</td>\n",
              "      <td>False</td>\n",
              "      <td>False</td>\n",
              "      <td>False</td>\n",
              "      <td>False</td>\n",
              "      <td>False</td>\n",
              "      <td>False</td>\n",
              "      <td>False</td>\n",
              "      <td>False</td>\n",
              "      <td>False</td>\n",
              "      <td>False</td>\n",
              "      <td>False</td>\n",
              "      <td>False</td>\n",
              "      <td>False</td>\n",
              "      <td>False</td>\n",
              "      <td>False</td>\n",
              "      <td>False</td>\n",
              "      <td>False</td>\n",
              "      <td>False</td>\n",
              "      <td>False</td>\n",
              "      <td>False</td>\n",
              "      <td>False</td>\n",
              "      <td>False</td>\n",
              "      <td>False</td>\n",
              "      <td>False</td>\n",
              "      <td>False</td>\n",
              "      <td>False</td>\n",
              "      <td>...</td>\n",
              "      <td>False</td>\n",
              "      <td>False</td>\n",
              "      <td>False</td>\n",
              "      <td>False</td>\n",
              "      <td>False</td>\n",
              "      <td>False</td>\n",
              "      <td>False</td>\n",
              "      <td>False</td>\n",
              "      <td>False</td>\n",
              "      <td>False</td>\n",
              "      <td>False</td>\n",
              "      <td>False</td>\n",
              "      <td>False</td>\n",
              "      <td>False</td>\n",
              "      <td>False</td>\n",
              "      <td>False</td>\n",
              "      <td>False</td>\n",
              "      <td>False</td>\n",
              "      <td>False</td>\n",
              "      <td>False</td>\n",
              "      <td>False</td>\n",
              "      <td>False</td>\n",
              "      <td>False</td>\n",
              "      <td>False</td>\n",
              "      <td>False</td>\n",
              "      <td>False</td>\n",
              "      <td>False</td>\n",
              "      <td>False</td>\n",
              "      <td>True</td>\n",
              "      <td>False</td>\n",
              "      <td>False</td>\n",
              "      <td>False</td>\n",
              "      <td>False</td>\n",
              "      <td>False</td>\n",
              "      <td>False</td>\n",
              "      <td>False</td>\n",
              "      <td>False</td>\n",
              "      <td>False</td>\n",
              "      <td>False</td>\n",
              "      <td>False</td>\n",
              "    </tr>\n",
              "    <tr>\n",
              "      <th>1077</th>\n",
              "      <td>False</td>\n",
              "      <td>False</td>\n",
              "      <td>False</td>\n",
              "      <td>False</td>\n",
              "      <td>False</td>\n",
              "      <td>False</td>\n",
              "      <td>False</td>\n",
              "      <td>False</td>\n",
              "      <td>False</td>\n",
              "      <td>False</td>\n",
              "      <td>False</td>\n",
              "      <td>False</td>\n",
              "      <td>False</td>\n",
              "      <td>False</td>\n",
              "      <td>False</td>\n",
              "      <td>False</td>\n",
              "      <td>False</td>\n",
              "      <td>False</td>\n",
              "      <td>False</td>\n",
              "      <td>False</td>\n",
              "      <td>False</td>\n",
              "      <td>False</td>\n",
              "      <td>False</td>\n",
              "      <td>False</td>\n",
              "      <td>False</td>\n",
              "      <td>False</td>\n",
              "      <td>False</td>\n",
              "      <td>False</td>\n",
              "      <td>False</td>\n",
              "      <td>False</td>\n",
              "      <td>False</td>\n",
              "      <td>False</td>\n",
              "      <td>False</td>\n",
              "      <td>False</td>\n",
              "      <td>False</td>\n",
              "      <td>False</td>\n",
              "      <td>False</td>\n",
              "      <td>False</td>\n",
              "      <td>False</td>\n",
              "      <td>False</td>\n",
              "      <td>...</td>\n",
              "      <td>False</td>\n",
              "      <td>False</td>\n",
              "      <td>False</td>\n",
              "      <td>False</td>\n",
              "      <td>False</td>\n",
              "      <td>False</td>\n",
              "      <td>False</td>\n",
              "      <td>False</td>\n",
              "      <td>False</td>\n",
              "      <td>False</td>\n",
              "      <td>False</td>\n",
              "      <td>False</td>\n",
              "      <td>False</td>\n",
              "      <td>False</td>\n",
              "      <td>False</td>\n",
              "      <td>False</td>\n",
              "      <td>False</td>\n",
              "      <td>False</td>\n",
              "      <td>False</td>\n",
              "      <td>False</td>\n",
              "      <td>False</td>\n",
              "      <td>False</td>\n",
              "      <td>False</td>\n",
              "      <td>False</td>\n",
              "      <td>False</td>\n",
              "      <td>False</td>\n",
              "      <td>False</td>\n",
              "      <td>False</td>\n",
              "      <td>True</td>\n",
              "      <td>False</td>\n",
              "      <td>False</td>\n",
              "      <td>False</td>\n",
              "      <td>False</td>\n",
              "      <td>False</td>\n",
              "      <td>False</td>\n",
              "      <td>False</td>\n",
              "      <td>False</td>\n",
              "      <td>False</td>\n",
              "      <td>False</td>\n",
              "      <td>False</td>\n",
              "    </tr>\n",
              "    <tr>\n",
              "      <th>1078</th>\n",
              "      <td>False</td>\n",
              "      <td>False</td>\n",
              "      <td>False</td>\n",
              "      <td>False</td>\n",
              "      <td>False</td>\n",
              "      <td>False</td>\n",
              "      <td>False</td>\n",
              "      <td>False</td>\n",
              "      <td>False</td>\n",
              "      <td>False</td>\n",
              "      <td>False</td>\n",
              "      <td>False</td>\n",
              "      <td>False</td>\n",
              "      <td>False</td>\n",
              "      <td>False</td>\n",
              "      <td>False</td>\n",
              "      <td>False</td>\n",
              "      <td>False</td>\n",
              "      <td>False</td>\n",
              "      <td>False</td>\n",
              "      <td>False</td>\n",
              "      <td>False</td>\n",
              "      <td>False</td>\n",
              "      <td>False</td>\n",
              "      <td>False</td>\n",
              "      <td>False</td>\n",
              "      <td>False</td>\n",
              "      <td>False</td>\n",
              "      <td>False</td>\n",
              "      <td>False</td>\n",
              "      <td>False</td>\n",
              "      <td>False</td>\n",
              "      <td>False</td>\n",
              "      <td>False</td>\n",
              "      <td>False</td>\n",
              "      <td>False</td>\n",
              "      <td>False</td>\n",
              "      <td>False</td>\n",
              "      <td>False</td>\n",
              "      <td>False</td>\n",
              "      <td>...</td>\n",
              "      <td>False</td>\n",
              "      <td>False</td>\n",
              "      <td>False</td>\n",
              "      <td>False</td>\n",
              "      <td>False</td>\n",
              "      <td>False</td>\n",
              "      <td>False</td>\n",
              "      <td>False</td>\n",
              "      <td>False</td>\n",
              "      <td>False</td>\n",
              "      <td>False</td>\n",
              "      <td>False</td>\n",
              "      <td>False</td>\n",
              "      <td>False</td>\n",
              "      <td>False</td>\n",
              "      <td>False</td>\n",
              "      <td>False</td>\n",
              "      <td>False</td>\n",
              "      <td>False</td>\n",
              "      <td>False</td>\n",
              "      <td>False</td>\n",
              "      <td>False</td>\n",
              "      <td>False</td>\n",
              "      <td>False</td>\n",
              "      <td>False</td>\n",
              "      <td>False</td>\n",
              "      <td>False</td>\n",
              "      <td>False</td>\n",
              "      <td>True</td>\n",
              "      <td>False</td>\n",
              "      <td>False</td>\n",
              "      <td>False</td>\n",
              "      <td>False</td>\n",
              "      <td>False</td>\n",
              "      <td>False</td>\n",
              "      <td>False</td>\n",
              "      <td>False</td>\n",
              "      <td>False</td>\n",
              "      <td>False</td>\n",
              "      <td>False</td>\n",
              "    </tr>\n",
              "    <tr>\n",
              "      <th>1079</th>\n",
              "      <td>False</td>\n",
              "      <td>False</td>\n",
              "      <td>False</td>\n",
              "      <td>False</td>\n",
              "      <td>False</td>\n",
              "      <td>False</td>\n",
              "      <td>False</td>\n",
              "      <td>False</td>\n",
              "      <td>False</td>\n",
              "      <td>False</td>\n",
              "      <td>False</td>\n",
              "      <td>False</td>\n",
              "      <td>False</td>\n",
              "      <td>False</td>\n",
              "      <td>False</td>\n",
              "      <td>False</td>\n",
              "      <td>False</td>\n",
              "      <td>False</td>\n",
              "      <td>False</td>\n",
              "      <td>False</td>\n",
              "      <td>False</td>\n",
              "      <td>False</td>\n",
              "      <td>False</td>\n",
              "      <td>False</td>\n",
              "      <td>False</td>\n",
              "      <td>False</td>\n",
              "      <td>False</td>\n",
              "      <td>False</td>\n",
              "      <td>False</td>\n",
              "      <td>False</td>\n",
              "      <td>False</td>\n",
              "      <td>False</td>\n",
              "      <td>False</td>\n",
              "      <td>False</td>\n",
              "      <td>False</td>\n",
              "      <td>False</td>\n",
              "      <td>False</td>\n",
              "      <td>False</td>\n",
              "      <td>False</td>\n",
              "      <td>False</td>\n",
              "      <td>...</td>\n",
              "      <td>False</td>\n",
              "      <td>False</td>\n",
              "      <td>False</td>\n",
              "      <td>False</td>\n",
              "      <td>False</td>\n",
              "      <td>False</td>\n",
              "      <td>False</td>\n",
              "      <td>False</td>\n",
              "      <td>False</td>\n",
              "      <td>False</td>\n",
              "      <td>False</td>\n",
              "      <td>False</td>\n",
              "      <td>False</td>\n",
              "      <td>False</td>\n",
              "      <td>False</td>\n",
              "      <td>False</td>\n",
              "      <td>False</td>\n",
              "      <td>False</td>\n",
              "      <td>False</td>\n",
              "      <td>False</td>\n",
              "      <td>False</td>\n",
              "      <td>False</td>\n",
              "      <td>False</td>\n",
              "      <td>False</td>\n",
              "      <td>False</td>\n",
              "      <td>False</td>\n",
              "      <td>False</td>\n",
              "      <td>False</td>\n",
              "      <td>True</td>\n",
              "      <td>False</td>\n",
              "      <td>False</td>\n",
              "      <td>False</td>\n",
              "      <td>False</td>\n",
              "      <td>False</td>\n",
              "      <td>False</td>\n",
              "      <td>False</td>\n",
              "      <td>False</td>\n",
              "      <td>False</td>\n",
              "      <td>False</td>\n",
              "      <td>False</td>\n",
              "    </tr>\n",
              "  </tbody>\n",
              "</table>\n",
              "<p>1080 rows × 82 columns</p>\n",
              "</div>"
            ],
            "text/plain": [
              "      MouseID  DYRK1A_N  ITSN1_N  BDNF_N  ...  Genotype  Treatment  Behavior  class\n",
              "0       False     False    False   False  ...     False      False     False  False\n",
              "1       False     False    False   False  ...     False      False     False  False\n",
              "2       False     False    False   False  ...     False      False     False  False\n",
              "3       False     False    False   False  ...     False      False     False  False\n",
              "4       False     False    False   False  ...     False      False     False  False\n",
              "...       ...       ...      ...     ...  ...       ...        ...       ...    ...\n",
              "1075    False     False    False   False  ...     False      False     False  False\n",
              "1076    False     False    False   False  ...     False      False     False  False\n",
              "1077    False     False    False   False  ...     False      False     False  False\n",
              "1078    False     False    False   False  ...     False      False     False  False\n",
              "1079    False     False    False   False  ...     False      False     False  False\n",
              "\n",
              "[1080 rows x 82 columns]"
            ]
          },
          "metadata": {
            "tags": []
          },
          "execution_count": 113
        }
      ]
    },
    {
      "cell_type": "code",
      "metadata": {
        "id": "cGghEyxmoG0j",
        "colab_type": "code",
        "colab": {
          "base_uri": "https://localhost:8080/",
          "height": 230
        },
        "outputId": "a5cdf601-c2ca-40fe-d50f-28ec26aec06b"
      },
      "source": [
        "data.isnull().sum()"
      ],
      "execution_count": 114,
      "outputs": [
        {
          "output_type": "execute_result",
          "data": {
            "text/plain": [
              "MouseID      0\n",
              "DYRK1A_N     3\n",
              "ITSN1_N      3\n",
              "BDNF_N       3\n",
              "NR1_N        3\n",
              "            ..\n",
              "CaNA_N       0\n",
              "Genotype     0\n",
              "Treatment    0\n",
              "Behavior     0\n",
              "class        0\n",
              "Length: 82, dtype: int64"
            ]
          },
          "metadata": {
            "tags": []
          },
          "execution_count": 114
        }
      ]
    },
    {
      "cell_type": "code",
      "metadata": {
        "id": "f87WxT7BoYvz",
        "colab_type": "code",
        "colab": {}
      },
      "source": [
        "# Null list contains column names having null values\n",
        "null_list=[]\n",
        "for i in range (0,data.isnull().sum().shape[0]-1):\n",
        "  if(data.isnull().sum()[i]>0):\n",
        "    null_list.append(data.isnull().sum().index[i])\n"
      ],
      "execution_count": 115,
      "outputs": []
    },
    {
      "cell_type": "code",
      "metadata": {
        "id": "QePWBRu1oaKD",
        "colab_type": "code",
        "colab": {
          "base_uri": "https://localhost:8080/",
          "height": 34
        },
        "outputId": "60951814-e2ca-4591-de3c-e2792972e96b"
      },
      "source": [
        "len(null_list)    # 49 columns having null values"
      ],
      "execution_count": 116,
      "outputs": [
        {
          "output_type": "execute_result",
          "data": {
            "text/plain": [
              "49"
            ]
          },
          "metadata": {
            "tags": []
          },
          "execution_count": 116
        }
      ]
    },
    {
      "cell_type": "code",
      "metadata": {
        "id": "LIwADQVzolCU",
        "colab_type": "code",
        "colab": {}
      },
      "source": [
        "# catagorical list contains column names having categorial values\n",
        "cat_features=[i for i in data.columns if data.dtypes[i]=='object'] "
      ],
      "execution_count": 117,
      "outputs": []
    },
    {
      "cell_type": "code",
      "metadata": {
        "id": "9tFuYlL7osFb",
        "colab_type": "code",
        "colab": {
          "base_uri": "https://localhost:8080/",
          "height": 34
        },
        "outputId": "599e4db1-c1b4-4785-80d6-23103c785913"
      },
      "source": [
        "len(cat_features)    # 5 columns having categorial data"
      ],
      "execution_count": 118,
      "outputs": [
        {
          "output_type": "execute_result",
          "data": {
            "text/plain": [
              "5"
            ]
          },
          "metadata": {
            "tags": []
          },
          "execution_count": 118
        }
      ]
    },
    {
      "cell_type": "code",
      "metadata": {
        "id": "V4fjNWrZoCVc",
        "colab_type": "code",
        "colab": {
          "base_uri": "https://localhost:8080/",
          "height": 230
        },
        "outputId": "0e046042-7667-4fe2-b7e0-cdb3cd395b32"
      },
      "source": [
        "data.nunique(axis=0)"
      ],
      "execution_count": 119,
      "outputs": [
        {
          "output_type": "execute_result",
          "data": {
            "text/plain": [
              "MouseID      1080\n",
              "DYRK1A_N     1077\n",
              "ITSN1_N      1076\n",
              "BDNF_N       1077\n",
              "NR1_N        1077\n",
              "             ... \n",
              "CaNA_N       1080\n",
              "Genotype        2\n",
              "Treatment       2\n",
              "Behavior        2\n",
              "class           8\n",
              "Length: 82, dtype: int64"
            ]
          },
          "metadata": {
            "tags": []
          },
          "execution_count": 119
        }
      ]
    },
    {
      "cell_type": "code",
      "metadata": {
        "id": "MjumtC1zquAR",
        "colab_type": "code",
        "colab": {
          "base_uri": "https://localhost:8080/",
          "height": 34
        },
        "outputId": "2e396646-fe7b-48d1-81e7-dd9e84c97aa0"
      },
      "source": [
        "data.shape"
      ],
      "execution_count": 120,
      "outputs": [
        {
          "output_type": "execute_result",
          "data": {
            "text/plain": [
              "(1080, 82)"
            ]
          },
          "metadata": {
            "tags": []
          },
          "execution_count": 120
        }
      ]
    },
    {
      "cell_type": "markdown",
      "metadata": {
        "id": "CsKdXXdQJ5t2",
        "colab_type": "text"
      },
      "source": [
        "-------------------------------------------------------------------------------\n",
        "\n",
        "\n",
        "\n",
        "we perform data profilling for understanding the dataset \n",
        "\n",
        "size of dataset is 1080 rows × 82 columns\n",
        "\n",
        "all columns are float datatype except MouseID,Genotype,Treatment,Behavior,class columns .\n",
        "\n",
        "data.columns  is used to get list of all columns\n",
        "\n",
        "data.nunique(axis=0) this function used to show unique value per column\n",
        "\n",
        "49 columns having null values\n",
        "\n",
        "5 columns having categorial data\n",
        "\n",
        "\n",
        "\n",
        "\n",
        "\n",
        "--------------------------------------------------------------------------------"
      ]
    },
    {
      "cell_type": "markdown",
      "metadata": {
        "id": "vzFDT2UiuTJi",
        "colab_type": "text"
      },
      "source": [
        "**Graph based EDA**"
      ]
    },
    {
      "cell_type": "code",
      "metadata": {
        "id": "YZTbu7UNoKDc",
        "colab_type": "code",
        "colab": {
          "base_uri": "https://localhost:8080/",
          "height": 342
        },
        "outputId": "82a5c784-bc10-4640-9b94-20675ffedb13"
      },
      "source": [
        "sns.heatmap(data.isnull(),yticklabels=False,cbar=False)"
      ],
      "execution_count": 121,
      "outputs": [
        {
          "output_type": "execute_result",
          "data": {
            "text/plain": [
              "<matplotlib.axes._subplots.AxesSubplot at 0x7f98abfdbdd8>"
            ]
          },
          "metadata": {
            "tags": []
          },
          "execution_count": 121
        },
        {
          "output_type": "display_data",
          "data": {
            "image/png": "[encoded data removed]",
            "text/plain": [
              "<Figure size 432x288 with 1 Axes>"
            ]
          },
          "metadata": {
            "tags": []
          }
        }
      ]
    },
    {
      "cell_type": "code",
      "metadata": {
        "id": "nq8c6HL3MY6N",
        "colab_type": "code",
        "colab": {
          "base_uri": "https://localhost:8080/",
          "height": 296
        },
        "outputId": "7019b3c4-4d70-4f19-a194-819d708502e8"
      },
      "source": [
        "sns.set_style('whitegrid')\n",
        "sns.countplot(x='class',data=data)"
      ],
      "execution_count": 122,
      "outputs": [
        {
          "output_type": "execute_result",
          "data": {
            "text/plain": [
              "<matplotlib.axes._subplots.AxesSubplot at 0x7f98abfd9b38>"
            ]
          },
          "metadata": {
            "tags": []
          },
          "execution_count": 122
        },
        {
          "output_type": "display_data",
          "data": {
            "image/png": "[encoded data removed]",
            "text/plain": [
              "<Figure size 432x288 with 1 Axes>"
            ]
          },
          "metadata": {
            "tags": []
          }
        }
      ]
    },
    {
      "cell_type": "code",
      "metadata": {
        "id": "7OLhoHB-uRgd",
        "colab_type": "code",
        "colab": {
          "base_uri": "https://localhost:8080/",
          "height": 318
        },
        "outputId": "6a0af09c-b8ae-4582-cf2f-d6b45877261e"
      },
      "source": [
        "data.boxplot(column='DYRK1A_N', by ='class')"
      ],
      "execution_count": 123,
      "outputs": [
        {
          "output_type": "execute_result",
          "data": {
            "text/plain": [
              "<matplotlib.axes._subplots.AxesSubplot at 0x7f98ac126400>"
            ]
          },
          "metadata": {
            "tags": []
          },
          "execution_count": 123
        },
        {
          "output_type": "display_data",
          "data": {
            "image/png": "[encoded data removed]",
            "text/plain": [
              "<Figure size 432x288 with 1 Axes>"
            ]
          },
          "metadata": {
            "tags": []
          }
        }
      ]
    },
    {
      "cell_type": "code",
      "metadata": {
        "id": "BPc5U_SwOdmx",
        "colab_type": "code",
        "colab": {
          "base_uri": "https://localhost:8080/",
          "height": 318
        },
        "outputId": "a1e53f4e-28cd-4199-be9c-247b1ddc6b36"
      },
      "source": [
        "data.boxplot(column='ITSN1_N', by ='class')"
      ],
      "execution_count": 124,
      "outputs": [
        {
          "output_type": "execute_result",
          "data": {
            "text/plain": [
              "<matplotlib.axes._subplots.AxesSubplot at 0x7f98ac19cf98>"
            ]
          },
          "metadata": {
            "tags": []
          },
          "execution_count": 124
        },
        {
          "output_type": "display_data",
          "data": {
            "image/png": "[encoded data removed]",
            "text/plain": [
              "<Figure size 432x288 with 1 Axes>"
            ]
          },
          "metadata": {
            "tags": []
          }
        }
      ]
    },
    {
      "cell_type": "markdown",
      "metadata": {
        "id": "pCBbwWXxQ-Hb",
        "colab_type": "text"
      },
      "source": [
        "same thing using seaborn library"
      ]
    },
    {
      "cell_type": "code",
      "metadata": {
        "id": "RWRh8IWaOqd2",
        "colab_type": "code",
        "colab": {
          "base_uri": "https://localhost:8080/",
          "height": 296
        },
        "outputId": "db634b14-99b5-4644-9b8d-f09633a05433"
      },
      "source": [
        "sns.boxplot(y=data['DYRK1A_N'],x=data['class'])"
      ],
      "execution_count": 125,
      "outputs": [
        {
          "output_type": "execute_result",
          "data": {
            "text/plain": [
              "<matplotlib.axes._subplots.AxesSubplot at 0x7f98ac0bed30>"
            ]
          },
          "metadata": {
            "tags": []
          },
          "execution_count": 125
        },
        {
          "output_type": "display_data",
          "data": {
            "image/png": "[encoded data removed]",
            "text/plain": [
              "<Figure size 432x288 with 1 Axes>"
            ]
          },
          "metadata": {
            "tags": []
          }
        }
      ]
    },
    {
      "cell_type": "markdown",
      "metadata": {
        "id": "RoN_L_hbPzeC",
        "colab_type": "text"
      },
      "source": [
        "from Graph based EDA we get following observation\n",
        "\n",
        "Given dataset contain lot of null values\n",
        "\n",
        "From countplot we understand this is balanced classification labels\n",
        "\n",
        "From boxplot we can easily identify outlires in the features\n",
        "\n",
        "after cleaning of data we use heatmap for Correlation Matrix ."
      ]
    },
    {
      "cell_type": "markdown",
      "metadata": {
        "id": "FcZk4b_EpQqu",
        "colab_type": "text"
      },
      "source": [
        "**Clean Data**"
      ]
    },
    {
      "cell_type": "markdown",
      "metadata": {
        "id": "Q9FqKpsPRZ-_",
        "colab_type": "text"
      },
      "source": [
        "**1)   handle Null values**"
      ]
    },
    {
      "cell_type": "code",
      "metadata": {
        "id": "LOo1QeKyqb5c",
        "colab_type": "code",
        "colab": {}
      },
      "source": [
        "for i in range (0,len(null_list)-1):\n",
        "  data[null_list[i]]=data[null_list[i]].fillna(data[null_list[i]].mean())"
      ],
      "execution_count": 126,
      "outputs": []
    },
    {
      "cell_type": "code",
      "metadata": {
        "id": "WYwD3q6Nq007",
        "colab_type": "code",
        "colab": {
          "base_uri": "https://localhost:8080/",
          "height": 342
        },
        "outputId": "c032bf52-a776-4da3-e38a-216c130ab566"
      },
      "source": [
        "sns.heatmap(data.isnull(),yticklabels=False,cbar=False)"
      ],
      "execution_count": 127,
      "outputs": [
        {
          "output_type": "execute_result",
          "data": {
            "text/plain": [
              "<matplotlib.axes._subplots.AxesSubplot at 0x7f98ac02beb8>"
            ]
          },
          "metadata": {
            "tags": []
          },
          "execution_count": 127
        },
        {
          "output_type": "display_data",
          "data": {
            "image/png": "[encoded data removed]",
            "text/plain": [
              "<Figure size 432x288 with 1 Axes>"
            ]
          },
          "metadata": {
            "tags": []
          }
        }
      ]
    },
    {
      "cell_type": "code",
      "metadata": {
        "id": "cvGVIXmXrQlY",
        "colab_type": "code",
        "colab": {
          "base_uri": "https://localhost:8080/",
          "height": 34
        },
        "outputId": "f87e5293-8b83-423e-88b2-d6078d8dd0b8"
      },
      "source": [
        "data.isnull().any().sum() #inplace=True"
      ],
      "execution_count": 128,
      "outputs": [
        {
          "output_type": "execute_result",
          "data": {
            "text/plain": [
              "1"
            ]
          },
          "metadata": {
            "tags": []
          },
          "execution_count": 128
        }
      ]
    },
    {
      "cell_type": "code",
      "metadata": {
        "id": "oNnPk869rUAp",
        "colab_type": "code",
        "colab": {}
      },
      "source": [
        "data.drop(['H3MeK4_N'],axis=1,inplace=True)"
      ],
      "execution_count": 129,
      "outputs": []
    },
    {
      "cell_type": "code",
      "metadata": {
        "id": "fOp04jufsBiz",
        "colab_type": "code",
        "colab": {
          "base_uri": "https://localhost:8080/",
          "height": 342
        },
        "outputId": "fe522f17-2d8f-490e-8e61-1c345c181cd0"
      },
      "source": [
        "sns.heatmap(data.isnull(),yticklabels=False,cbar=False)"
      ],
      "execution_count": 130,
      "outputs": [
        {
          "output_type": "execute_result",
          "data": {
            "text/plain": [
              "<matplotlib.axes._subplots.AxesSubplot at 0x7f98ac1a4c50>"
            ]
          },
          "metadata": {
            "tags": []
          },
          "execution_count": 130
        },
        {
          "output_type": "display_data",
          "data": {
            "image/png": "[encoded data removed]",
            "text/plain": [
              "<Figure size 432x288 with 1 Axes>"
            ]
          },
          "metadata": {
            "tags": []
          }
        }
      ]
    },
    {
      "cell_type": "markdown",
      "metadata": {
        "id": "KNy6auUdsDtw",
        "colab_type": "text"
      },
      "source": [
        "finally we get clean data free from missing  values"
      ]
    },
    {
      "cell_type": "code",
      "metadata": {
        "id": "5jy9kMck1FLI",
        "colab_type": "code",
        "colab": {}
      },
      "source": [
        "from sklearn import preprocessing  \n",
        "label_encoder = preprocessing.LabelEncoder() \n",
        "data['MouseID']= label_encoder.fit_transform(data['MouseID']) \n",
        "  \n",
        "############################conversion for that id vala part\n",
        "\n",
        "data['class']= label_encoder.fit_transform(data['class']) "
      ],
      "execution_count": 131,
      "outputs": []
    },
    {
      "cell_type": "code",
      "metadata": {
        "id": "x2Wo_mbs1Xpf",
        "colab_type": "code",
        "colab": {
          "base_uri": "https://localhost:8080/",
          "height": 230
        },
        "outputId": "20630d35-0722-4634-c9fb-6d1759d3a3bd"
      },
      "source": [
        "data['MouseID']"
      ],
      "execution_count": 132,
      "outputs": [
        {
          "output_type": "execute_result",
          "data": {
            "text/plain": [
              "0         45\n",
              "1         52\n",
              "2         53\n",
              "3         54\n",
              "4         55\n",
              "        ... \n",
              "1075    1067\n",
              "1076    1068\n",
              "1077    1069\n",
              "1078    1070\n",
              "1079    1071\n",
              "Name: MouseID, Length: 1080, dtype: int64"
            ]
          },
          "metadata": {
            "tags": []
          },
          "execution_count": 132
        }
      ]
    },
    {
      "cell_type": "markdown",
      "metadata": {
        "id": "4tSq8AyS1jrP",
        "colab_type": "text"
      },
      "source": [
        "**2)   conversion of catogorical into integer**"
      ]
    },
    {
      "cell_type": "code",
      "metadata": {
        "id": "yfOBV3He10tG",
        "colab_type": "code",
        "colab": {}
      },
      "source": [
        "cat_features1=[i for i in data.columns if data.dtypes[i]=='object'] "
      ],
      "execution_count": 133,
      "outputs": []
    },
    {
      "cell_type": "code",
      "metadata": {
        "id": "mBd3B00A18L-",
        "colab_type": "code",
        "colab": {
          "base_uri": "https://localhost:8080/",
          "height": 34
        },
        "outputId": "1c37ed18-52a3-4f59-8747-39608590600b"
      },
      "source": [
        "cat_features1"
      ],
      "execution_count": 134,
      "outputs": [
        {
          "output_type": "execute_result",
          "data": {
            "text/plain": [
              "['Genotype', 'Treatment', 'Behavior']"
            ]
          },
          "metadata": {
            "tags": []
          },
          "execution_count": 134
        }
      ]
    },
    {
      "cell_type": "code",
      "metadata": {
        "id": "xqAC4zGW1-R1",
        "colab_type": "code",
        "colab": {}
      },
      "source": [
        "def category_onehot_multcols(multcolumns):\n",
        "    df_final=data\n",
        "    i=0\n",
        "    for fields in multcolumns:\n",
        "        \n",
        "        print(fields)\n",
        "        df1=pd.get_dummies(data[fields],drop_first=True)\n",
        "        \n",
        "        data.drop([fields],axis=1,inplace=True)\n",
        "        if i==0:\n",
        "            df_final=df1.copy()\n",
        "        else:\n",
        "            \n",
        "            df_final=pd.concat([df_final,df1],axis=1)\n",
        "        i=i+1\n",
        "       \n",
        "        \n",
        "    df_final=pd.concat([data,df_final],axis=1)\n",
        "        \n",
        "    return df_final"
      ],
      "execution_count": 135,
      "outputs": []
    },
    {
      "cell_type": "code",
      "metadata": {
        "id": "5VY88S2m2Dhv",
        "colab_type": "code",
        "colab": {
          "base_uri": "https://localhost:8080/",
          "height": 70
        },
        "outputId": "c12e0bc9-5414-46ca-9d8b-603ecec898fb"
      },
      "source": [
        "data1=category_onehot_multcols(cat_features1)"
      ],
      "execution_count": 136,
      "outputs": [
        {
          "output_type": "stream",
          "text": [
            "Genotype\n",
            "Treatment\n",
            "Behavior\n"
          ],
          "name": "stdout"
        }
      ]
    },
    {
      "cell_type": "code",
      "metadata": {
        "id": "nNJbwR872XNH",
        "colab_type": "code",
        "colab": {
          "base_uri": "https://localhost:8080/",
          "height": 34
        },
        "outputId": "41196e1e-bade-4756-cf39-18c4d3c6b7bf"
      },
      "source": [
        "data1.shape"
      ],
      "execution_count": 137,
      "outputs": [
        {
          "output_type": "execute_result",
          "data": {
            "text/plain": [
              "(1080, 81)"
            ]
          },
          "metadata": {
            "tags": []
          },
          "execution_count": 137
        }
      ]
    },
    {
      "cell_type": "markdown",
      "metadata": {
        "id": "WoWAOjrf2c3d",
        "colab_type": "text"
      },
      "source": [
        "increase data columns 81 to 87 due to one-hot-encoding....................updated to 81"
      ]
    },
    {
      "cell_type": "markdown",
      "metadata": {
        "id": "QxGbYxSjs7Wo",
        "colab_type": "text"
      },
      "source": [
        "**3)  handling outlire**"
      ]
    },
    {
      "cell_type": "code",
      "metadata": {
        "id": "pdy-mNCKsUmA",
        "colab_type": "code",
        "colab": {
          "base_uri": "https://localhost:8080/",
          "height": 296
        },
        "outputId": "731758f0-da43-4bcf-f036-706dfcd557e8"
      },
      "source": [
        "sns.boxplot(y=data['DYRK1A_N'],x=data['class'])\n"
      ],
      "execution_count": 138,
      "outputs": [
        {
          "output_type": "execute_result",
          "data": {
            "text/plain": [
              "<matplotlib.axes._subplots.AxesSubplot at 0x7f98abd885f8>"
            ]
          },
          "metadata": {
            "tags": []
          },
          "execution_count": 138
        },
        {
          "output_type": "display_data",
          "data": {
            "image/png": "[encoded data removed]",
            "text/plain": [
              "<Figure size 432x288 with 1 Axes>"
            ]
          },
          "metadata": {
            "tags": []
          }
        }
      ]
    },
    {
      "cell_type": "code",
      "metadata": {
        "id": "Srp3x7r8tI62",
        "colab_type": "code",
        "colab": {
          "base_uri": "https://localhost:8080/",
          "height": 141
        },
        "outputId": "a559826a-80a3-4224-b8f7-d3434744f478"
      },
      "source": [
        "z = np.abs(stats.zscore(data1))\n",
        "print(z)"
      ],
      "execution_count": 139,
      "outputs": [
        {
          "output_type": "stream",
          "text": [
            "[[1.58611017 0.31271112 0.5179336  ... 0.9459053  0.9459053  1.02817453]\n",
            " [1.56365765 0.35679793 0.28650133 ... 0.9459053  0.9459053  1.02817453]\n",
            " [1.56045015 0.33496588 0.45046461 ... 0.9459053  0.9459053  1.02817453]\n",
            " ...\n",
            " [1.69837277 0.79192771 0.88354273 ... 1.05718828 1.05718828 0.97259753]\n",
            " [1.70158027 0.82188815 0.8130138  ... 1.05718828 1.05718828 0.97259753]\n",
            " [1.70478778 0.49491588 0.62125474 ... 1.05718828 1.05718828 0.97259753]]\n"
          ],
          "name": "stdout"
        }
      ]
    },
    {
      "cell_type": "code",
      "metadata": {
        "id": "BHXHh8ke2wFE",
        "colab_type": "code",
        "colab": {
          "base_uri": "https://localhost:8080/",
          "height": 1000
        },
        "outputId": "d79483cc-c30b-4318-981d-20b68c7243de"
      },
      "source": [
        "threshold = 3\n",
        "print(np.where(z > 3))"
      ],
      "execution_count": 140,
      "outputs": [
        {
          "output_type": "stream",
          "text": [
            "(array([  25,   25,   25,   27,   27,   27,   27,   27,   28,   29,   30,\n",
            "         30,   31,   31,   31,   32,   32,   32,   32,   46,   47,   47,\n",
            "         87,   87,   87,   87,   87,   87,   87,   87,   88,   88,   88,\n",
            "         88,   88,   88,   89,   89,  102,  133,  133,  162,  163,  164,\n",
            "        164,  164,  165,  166,  167,  170,  175,  176,  177,  177,  177,\n",
            "        177,  178,  178,  178,  178,  179,  179,  179,  181,  205,  207,\n",
            "        207,  219,  220,  220,  221,  222,  222,  222,  222,  222,  223,\n",
            "        223,  223,  223,  223,  223,  223,  224,  224,  224,  224,  224,\n",
            "        224,  235,  237,  237,  238,  238,  239,  239,  239,  249,  249,\n",
            "        249,  252,  252,  252,  253,  254,  267,  268,  282,  283,  283,\n",
            "        284,  284,  284,  286,  289,  297,  298,  298,  299,  301,  302,\n",
            "        302,  302,  308,  316,  317,  317,  336,  336,  336,  336,  336,\n",
            "        336,  336,  337,  337,  337,  337,  337,  337,  337,  338,  338,\n",
            "        338,  338,  338,  338,  338,  341,  342,  342,  342,  342,  343,\n",
            "        343,  343,  344,  344,  344,  346,  347,  358,  358,  360,  360,\n",
            "        360,  360,  360,  360,  361,  361,  361,  361,  361,  361,  361,\n",
            "        362,  362,  362,  362,  362,  362,  362,  363,  363,  363,  363,\n",
            "        363,  363,  364,  364,  364,  364,  364,  364,  365,  365,  365,\n",
            "        365,  365,  365,  365,  366,  366,  366,  366,  366,  366,  367,\n",
            "        367,  367,  367,  367,  367,  368,  368,  368,  368,  368,  368,\n",
            "        369,  369,  369,  369,  369,  369,  370,  370,  370,  370,  370,\n",
            "        370,  371,  371,  371,  371,  371,  371,  372,  372,  372,  372,\n",
            "        372,  372,  373,  373,  373,  373,  373,  374,  374,  374,  374,\n",
            "        374,  374,  375,  375,  375,  375,  375,  375,  375,  375,  375,\n",
            "        375,  375,  375,  375,  375,  377,  377,  377,  378,  378,  378,\n",
            "        378,  378,  378,  378,  380,  381,  381,  384,  385,  387,  387,\n",
            "        387,  390,  390,  390,  390,  390,  390,  390,  390,  391,  391,\n",
            "        391,  391,  391,  391,  391,  392,  392,  392,  392,  392,  392,\n",
            "        393,  393,  393,  393,  394,  394,  395,  405,  406,  429,  429,\n",
            "        429,  429,  430,  430,  431,  431,  431,  432,  432,  433,  433,\n",
            "        433,  433,  434,  434,  448,  448,  449,  452,  474,  475,  476,\n",
            "        477,  478,  479,  492,  492,  494,  495,  496,  497,  498,  501,\n",
            "        515,  518,  526,  527,  531,  543,  543,  544,  544,  545,  545,\n",
            "        546,  546,  547,  547,  548,  548,  549,  549,  549,  550,  550,\n",
            "        551,  551,  551,  552,  552,  553,  553,  554,  554,  554,  558,\n",
            "        563,  574,  582,  582,  583,  583,  584,  609,  612,  613,  614,\n",
            "        677,  696,  697,  698,  699,  700,  701,  702,  702,  702,  703,\n",
            "        704,  705,  705,  706,  706,  707,  708,  708,  709,  709,  710,\n",
            "        710,  711,  711,  712,  712,  713,  714,  714,  715,  715,  716,\n",
            "        716,  716,  717,  717,  717,  718,  718,  718,  719,  719,  719,\n",
            "        720,  721,  722,  723,  724,  725,  726,  727,  733,  734,  735,\n",
            "        735,  736,  738,  738,  741,  741,  742,  742,  743,  744,  744,\n",
            "        744,  745,  745,  746,  746,  747,  747,  747,  747,  747,  748,\n",
            "        748,  749,  749,  759,  759,  759,  760,  760,  761,  761,  763,\n",
            "        764,  770,  773,  774,  775,  775,  777,  777,  777,  777,  777,\n",
            "        778,  778,  778,  778,  778,  778,  779,  779,  779,  779,  779,\n",
            "        779,  779,  789,  790,  791,  792,  793,  793,  793,  794,  843,\n",
            "        850,  851,  851,  852,  852,  852,  852,  853,  853,  854,  854,\n",
            "        854,  854,  870,  870,  870,  870,  871,  871,  871,  871,  872,\n",
            "        872,  872,  872,  873,  873,  873,  874,  874,  874,  875,  875,\n",
            "        875,  876,  876,  876,  876,  877,  877,  877,  877,  877,  878,\n",
            "        878,  878,  878,  879,  880,  881,  881,  882,  882,  882,  883,\n",
            "        883,  883,  884,  884,  884,  900,  901,  902,  909,  909,  910,\n",
            "        911,  915,  915,  916,  916,  917,  945,  946,  947,  979, 1020,\n",
            "       1020, 1020, 1020, 1020, 1023, 1026, 1026, 1026, 1029, 1029, 1029,\n",
            "       1029, 1029, 1030, 1032, 1032, 1037, 1037, 1044, 1063, 1078, 1079]), array([34, 40, 41, 41, 54, 56, 64, 71, 64, 64, 24, 25, 24, 25, 38,  3, 24,\n",
            "       25, 38, 50,  5, 50, 45, 46, 53, 54, 55, 56, 64, 71, 45, 53, 54, 55,\n",
            "       64, 71, 53, 64, 53, 31, 52, 75, 35,  7, 23, 75, 16, 16, 16, 16, 75,\n",
            "       70, 59, 70, 72, 75,  7, 69, 70, 75, 69, 70, 75,  3, 39, 14, 30, 72,\n",
            "       23, 72, 72,  7, 23, 58, 65, 72, 23, 61, 63, 65, 68, 72, 74, 23, 52,\n",
            "       61, 65, 68, 72, 70, 70, 75, 70, 75, 69, 70, 75, 52, 69, 70, 52, 69,\n",
            "       70, 72, 69, 35, 35, 69, 60, 69, 10, 30, 69, 60, 60, 75, 52, 75, 75,\n",
            "       50, 16, 24, 50, 18, 50, 24, 50,  6,  7, 12, 14, 19, 20, 27,  6,  7,\n",
            "       12, 14, 19, 20, 27,  6,  7, 12, 14, 19, 20, 27,  6,  7, 12, 19, 27,\n",
            "       12, 19, 27, 12, 19, 27, 50, 50, 28, 48,  1,  2, 10, 11, 21, 26,  1,\n",
            "        2, 10, 11, 21, 26, 67,  1,  2, 10, 11, 21, 26, 67,  1,  2, 10, 11,\n",
            "       21, 26,  1,  2, 10, 11, 21, 26,  1,  2, 10, 11, 21, 26, 67,  1,  2,\n",
            "       10, 11, 21, 26,  1,  2, 10, 11, 21, 26,  1,  2, 10, 11, 21, 26,  1,\n",
            "        2, 10, 11, 21, 26,  1,  2, 10, 11, 21, 26,  1,  2, 10, 11, 21, 26,\n",
            "        1,  2, 10, 11, 21, 26,  1,  2, 10, 21, 26,  1,  2, 10, 11, 21, 26,\n",
            "        3,  4,  5, 15, 17, 20, 24, 25, 32, 37, 38, 40, 42, 44,  5, 15, 24,\n",
            "        4,  5, 15, 17, 38, 40, 42, 40, 38, 40, 55,  9, 37, 40, 55, 24, 44,\n",
            "       45, 46, 48, 56, 63, 73, 24, 44, 45, 46, 56, 63, 73, 24, 44, 45, 46,\n",
            "       63, 73, 44, 46, 48, 63, 44, 63, 63, 46, 46, 17, 29, 30, 58, 17, 29,\n",
            "       17, 26, 29, 46, 58, 22, 23, 30, 46, 30, 46, 34, 35, 65, 39, 68, 68,\n",
            "       68, 68, 68, 68, 68, 75, 75, 33, 33, 33, 10, 10, 10, 10, 24, 24, 52,\n",
            "       51, 57, 51, 57, 51, 57, 51, 57, 51, 57, 51, 57, 51, 57, 75, 51, 57,\n",
            "       51, 57, 75, 51, 57, 51, 57, 51, 57, 75, 31, 64, 31, 37, 39, 37, 39,\n",
            "       37, 70, 70, 70, 70, 50, 43, 43, 43, 43, 43, 43, 19, 43, 69, 43, 43,\n",
            "       33, 74, 33, 74, 74, 51, 74, 51, 74, 51, 74, 51, 74, 51, 74, 74, 51,\n",
            "       74, 51, 74, 51, 57, 74, 51, 57, 74, 51, 57, 74, 51, 57, 74, 33, 33,\n",
            "       33, 33, 33, 33, 33, 33, 69, 75, 37, 42, 51, 51, 53, 37, 42, 35, 51,\n",
            "       35, 51, 52, 58, 35, 51, 51, 57, 35, 41, 51, 52, 58, 41, 51, 41, 51,\n",
            "       39, 52, 66, 52, 66, 52, 66, 61, 61, 22,  6, 22, 14, 22,  6, 22, 27,\n",
            "       28, 30,  6, 12, 14, 22, 28, 30,  6,  7, 14, 22, 23, 27, 30, 68, 68,\n",
            "       68, 68, 55, 68, 70, 68, 58, 46, 58, 70, 58, 59, 65, 70, 58, 70, 58,\n",
            "       62, 69, 70, 34, 36, 37, 39, 34, 36, 37, 39, 34, 36, 37, 39, 36, 37,\n",
            "       39, 36, 37, 39, 36, 37, 39, 34, 36, 37, 39, 34, 36, 37, 39, 52, 34,\n",
            "       36, 37, 39, 36, 36, 36, 37, 36, 37, 39, 36, 37, 39, 36, 37, 39, 50,\n",
            "       50, 50, 53, 55, 53, 53, 24, 44, 24, 25, 24, 33, 33, 33, 70,  8, 31,\n",
            "       38, 42, 43, 43, 42, 43, 55, 37, 38, 41, 42, 43, 42, 42, 43, 42, 50,\n",
            "       14,  6, 74, 74]))\n"
          ],
          "name": "stdout"
        }
      ]
    },
    {
      "cell_type": "code",
      "metadata": {
        "id": "1Wubagwr3Cfc",
        "colab_type": "code",
        "colab": {}
      },
      "source": [
        "data2=data1[(z < 4).all(axis=1)]"
      ],
      "execution_count": 141,
      "outputs": []
    },
    {
      "cell_type": "markdown",
      "metadata": {
        "id": "qJviI7sLUtrs",
        "colab_type": "text"
      },
      "source": [
        "after removing outlire data rows reduce to 1080 to 957"
      ]
    },
    {
      "cell_type": "code",
      "metadata": {
        "id": "zuj9gMpm3LD8",
        "colab_type": "code",
        "colab": {
          "base_uri": "https://localhost:8080/",
          "height": 34
        },
        "outputId": "e88deb24-823e-4cce-817c-02d7ede32e04"
      },
      "source": [
        "data2.shape"
      ],
      "execution_count": 142,
      "outputs": [
        {
          "output_type": "execute_result",
          "data": {
            "text/plain": [
              "(957, 81)"
            ]
          },
          "metadata": {
            "tags": []
          },
          "execution_count": 142
        }
      ]
    },
    {
      "cell_type": "markdown",
      "metadata": {
        "id": "YdnnbBbiTtxp",
        "colab_type": "text"
      },
      "source": [
        "**Graph based EDA after data cleaning**"
      ]
    },
    {
      "cell_type": "markdown",
      "metadata": {
        "id": "ExsS_NvNT60O",
        "colab_type": "text"
      },
      "source": [
        "before"
      ]
    },
    {
      "cell_type": "code",
      "metadata": {
        "id": "SKz63G2nT0g2",
        "colab_type": "code",
        "colab": {
          "base_uri": "https://localhost:8080/",
          "height": 296
        },
        "outputId": "a7216859-efb9-4efc-d84c-355d7c95db13"
      },
      "source": [
        "sns.boxplot(y=data['DYRK1A_N'],x=data['class'])"
      ],
      "execution_count": 143,
      "outputs": [
        {
          "output_type": "execute_result",
          "data": {
            "text/plain": [
              "<matplotlib.axes._subplots.AxesSubplot at 0x7f98abcc7cf8>"
            ]
          },
          "metadata": {
            "tags": []
          },
          "execution_count": 143
        },
        {
          "output_type": "display_data",
          "data": {
            "image/png": "[encoded data removed]",
            "text/plain": [
              "<Figure size 432x288 with 1 Axes>"
            ]
          },
          "metadata": {
            "tags": []
          }
        }
      ]
    },
    {
      "cell_type": "markdown",
      "metadata": {
        "id": "WczzcCnsT_K2",
        "colab_type": "text"
      },
      "source": [
        "after"
      ]
    },
    {
      "cell_type": "code",
      "metadata": {
        "id": "eqS8axNixAvX",
        "colab_type": "code",
        "colab": {
          "base_uri": "https://localhost:8080/",
          "height": 296
        },
        "outputId": "9fe1c45c-2359-47ed-f52b-37a906ddc0c8"
      },
      "source": [
        "sns.boxplot(y=data2['DYRK1A_N'],x=data2['class'])\n"
      ],
      "execution_count": 144,
      "outputs": [
        {
          "output_type": "execute_result",
          "data": {
            "text/plain": [
              "<matplotlib.axes._subplots.AxesSubplot at 0x7f98abcfd278>"
            ]
          },
          "metadata": {
            "tags": []
          },
          "execution_count": 144
        },
        {
          "output_type": "display_data",
          "data": {
            "image/png": "[encoded data removed]",
            "text/plain": [
              "<Figure size 432x288 with 1 Axes>"
            ]
          },
          "metadata": {
            "tags": []
          }
        }
      ]
    },
    {
      "cell_type": "markdown",
      "metadata": {
        "id": "BG-m5EgA3Os1",
        "colab_type": "text"
      },
      "source": [
        "after removing outlire data rows reduce to 1080 to 747"
      ]
    },
    {
      "cell_type": "code",
      "metadata": {
        "id": "0zgDqfRPUipt",
        "colab_type": "code",
        "colab": {
          "base_uri": "https://localhost:8080/",
          "height": 342
        },
        "outputId": "6c9a1653-06fe-47b2-be3e-d4424283ef70"
      },
      "source": [
        "sns.heatmap(data.isnull(),yticklabels=False,cbar=False)"
      ],
      "execution_count": 145,
      "outputs": [
        {
          "output_type": "execute_result",
          "data": {
            "text/plain": [
              "<matplotlib.axes._subplots.AxesSubplot at 0x7f98abb3fc18>"
            ]
          },
          "metadata": {
            "tags": []
          },
          "execution_count": 145
        },
        {
          "output_type": "display_data",
          "data": {
            "image/png": "[encoded data removed]",
            "text/plain": [
              "<Figure size 432x288 with 1 Axes>"
            ]
          },
          "metadata": {
            "tags": []
          }
        }
      ]
    },
    {
      "cell_type": "code",
      "metadata": {
        "id": "wkSeH9mpVdtG",
        "colab_type": "code",
        "colab": {}
      },
      "source": [
        "df= data2.iloc[:,65:80]"
      ],
      "execution_count": 146,
      "outputs": []
    },
    {
      "cell_type": "code",
      "metadata": {
        "id": "jqb9FnHEViVH",
        "colab_type": "code",
        "colab": {
          "base_uri": "https://localhost:8080/",
          "height": 640
        },
        "outputId": "70080bcd-3049-497b-b2ec-9bf9879dff97"
      },
      "source": [
        "corr = df.corr()# plot the heatmap\n",
        "import matplotlib.pyplot as plt\n",
        "plt.figure(figsize = (160,50))\n",
        "sns.heatmap(corr, xticklabels=corr.columns, yticklabels=corr.columns, annot=True ) "
      ],
      "execution_count": 147,
      "outputs": [
        {
          "output_type": "execute_result",
          "data": {
            "text/plain": [
              "<matplotlib.axes._subplots.AxesSubplot at 0x7f98abb27748>"
            ]
          },
          "metadata": {
            "tags": []
          },
          "execution_count": 147
        },
        {
          "output_type": "display_data",
          "data": {
            "image/png": "[encoded data removed]",
            "text/plain": [
              "<Figure size 11520x3600 with 2 Axes>"
            ]
          },
          "metadata": {
            "tags": []
          }
        }
      ]
    },
    {
      "cell_type": "markdown",
      "metadata": {
        "id": "nPOvOy4aV0R0",
        "colab_type": "text"
      },
      "source": [
        ""
      ]
    },
    {
      "cell_type": "markdown",
      "metadata": {
        "id": "nCN3hq9_V0bf",
        "colab_type": "text"
      },
      "source": [
        ""
      ]
    },
    {
      "cell_type": "markdown",
      "metadata": {
        "id": "4jTidN70V0mT",
        "colab_type": "text"
      },
      "source": [
        "**Model building**"
      ]
    },
    {
      "cell_type": "code",
      "metadata": {
        "id": "aX9qzGs1La6S",
        "colab_type": "code",
        "colab": {}
      },
      "source": [
        "x=data2.iloc[:,0:79]\n",
        "#y=data2.iloc[:,80]\n",
        "y=data2.pop('class')\n",
        "\n"
      ],
      "execution_count": 148,
      "outputs": []
    },
    {
      "cell_type": "code",
      "metadata": {
        "id": "W3cXvnjxLmYe",
        "colab_type": "code",
        "colab": {
          "base_uri": "https://localhost:8080/",
          "height": 34
        },
        "outputId": "4a98c655-9da6-4150-d063-bceb9d733f47"
      },
      "source": [
        "y.shape"
      ],
      "execution_count": 149,
      "outputs": [
        {
          "output_type": "execute_result",
          "data": {
            "text/plain": [
              "(957,)"
            ]
          },
          "metadata": {
            "tags": []
          },
          "execution_count": 149
        }
      ]
    },
    {
      "cell_type": "code",
      "metadata": {
        "id": "_x-BPNQ_JYpr",
        "colab_type": "code",
        "colab": {}
      },
      "source": [
        "from sklearn.model_selection import train_test_split \n",
        "X_train, X_test, y_train, y_test = train_test_split(x, y, test_size = 0.25)"
      ],
      "execution_count": 150,
      "outputs": []
    },
    {
      "cell_type": "markdown",
      "metadata": {
        "id": "dIgh7mU0WmzQ",
        "colab_type": "text"
      },
      "source": [
        "**why we selecting random forest ?**\n",
        "\n",
        "our problem statement is Multiclass Classification problem \n",
        "we used DecisionTree,KNeighborsClassifier,RandomForestClassifier these algorithum with Mice Protein dataset we come to know that\n",
        "\n",
        "without handling outlire and after cross-validation\n",
        "\n",
        "RandomForestClassifier  71---------------->56\n",
        "\n",
        "KNeighborsClassifier    94---------------->68\n",
        "\n",
        "DecisionTree            92---------------->70\n",
        "\n",
        "all these accuracy from ineuronv3_1 version file\n",
        "\n",
        "**after handling outlire and after cross-validation**\n",
        "\n",
        "RandomForestClassifier   77---------------75\n",
        "\n",
        "KNeighborsClassifier     98--------------82\n",
        "\n",
        "DecisionTree             99--------------99\n",
        "\n",
        "all these accuracy from ineuronv5_1 version file\n"
      ]
    },
    {
      "cell_type": "code",
      "metadata": {
        "id": "khO77wGo53Ko",
        "colab_type": "code",
        "colab": {}
      },
      "source": [
        "from sklearn import tree\n",
        "dt = tree.DecisionTreeClassifier()\n",
        "model = dt.fit(X_train, y_train)\n",
        "prad = model.predict(X_test)"
      ],
      "execution_count": 152,
      "outputs": []
    },
    {
      "cell_type": "code",
      "metadata": {
        "id": "QGBnzkXpMQpC",
        "colab_type": "code",
        "colab": {
          "base_uri": "https://localhost:8080/",
          "height": 34
        },
        "outputId": "191251d8-e431-4904-a532-386c24d74fcf"
      },
      "source": [
        "from sklearn.metrics import accuracy_score\n",
        "accuracy_score(y_test, prad)"
      ],
      "execution_count": 153,
      "outputs": [
        {
          "output_type": "execute_result",
          "data": {
            "text/plain": [
              "1.0"
            ]
          },
          "metadata": {
            "tags": []
          },
          "execution_count": 153
        }
      ]
    },
    {
      "cell_type": "code",
      "metadata": {
        "id": "-F5uM-u9qa3O",
        "colab_type": "code",
        "colab": {}
      },
      "source": [
        "from sklearn.model_selection import cross_val_score\n",
        "score=cross_val_score(model,x,y,cv=10)"
      ],
      "execution_count": 154,
      "outputs": []
    },
    {
      "cell_type": "code",
      "metadata": {
        "id": "-huDgI4yqrgA",
        "colab_type": "code",
        "colab": {
          "base_uri": "https://localhost:8080/",
          "height": 34
        },
        "outputId": "4cb96c1c-0f32-46e8-e654-1d9e91ab2de7"
      },
      "source": [
        "score.mean()"
      ],
      "execution_count": 155,
      "outputs": [
        {
          "output_type": "execute_result",
          "data": {
            "text/plain": [
              "0.99375"
            ]
          },
          "metadata": {
            "tags": []
          },
          "execution_count": 155
        }
      ]
    },
    {
      "cell_type": "markdown",
      "metadata": {
        "id": "4I5TZdeKZfVe",
        "colab_type": "text"
      },
      "source": [
        "**98.11**"
      ]
    },
    {
      "cell_type": "markdown",
      "metadata": {
        "id": "Ca3-i4weZwGp",
        "colab_type": "text"
      },
      "source": [
        "**store model into pickle file**"
      ]
    },
    {
      "cell_type": "code",
      "metadata": {
        "id": "KyHtnjaXaD-S",
        "colab_type": "code",
        "colab": {}
      },
      "source": [
        "X_test.to_csv('file.csv')"
      ],
      "execution_count": 156,
      "outputs": []
    },
    {
      "cell_type": "code",
      "metadata": {
        "id": "zZTLmOmJZvRI",
        "colab_type": "code",
        "colab": {}
      },
      "source": [
        "import pickle\n",
        "pickle_out = open(\"classifier.pkl\",\"wb\")\n",
        "pickle.dump(model, pickle_out)\n",
        "pickle_out.close()"
      ],
      "execution_count": 157,
      "outputs": []
    }
  ]
}